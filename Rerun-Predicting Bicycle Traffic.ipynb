{
 "cells": [
  {
   "cell_type": "code",
   "execution_count": 1,
   "metadata": {
    "tags": []
   },
   "outputs": [],
   "source": [
    "import pandas as pd\n",
    "import numpy as np\n",
    "import matplotlib.pyplot as plt\n",
    "import requests\n",
    "import time\n",
    "import random\n",
    "\n",
    "file = open(\"weather_token.txt\", \"r\")\n",
    "weather_token = file.read()\n",
    "file.close()"
   ]
  },
  {
   "cell_type": "markdown",
   "metadata": {},
   "source": [
    "# Predicting bicycle traffic across Seattle's Fremont Bridge"
   ]
  },
  {
   "cell_type": "markdown",
   "metadata": {},
   "source": [
    "Seattle's Fremont Bridge Dataset: Download the Fremont dataset from the [Seattle Open Data Portal](https://data.seattle.gov/)"
   ]
  },
  {
   "cell_type": "markdown",
   "metadata": {
    "tags": []
   },
   "source": [
    "### Gathering Bike traffic Data (Target Variable)"
   ]
  },
  {
   "cell_type": "code",
   "execution_count": 2,
   "metadata": {
    "tags": []
   },
   "outputs": [],
   "source": [
    "#Fremont bike traffic API\n",
    "\n",
    "traffic_df_list = [] #list to gather returned api datasets\n",
    "offset = 0 #initialize api offset\n",
    "i = 0 #ensure the while true doesn't run forever if API changes\n",
    "\n",
    "while True:\n",
    "    i += 1\n",
    "    \n",
    "    url = f'https://data.seattle.gov/resource/65db-xm6k.json?$offset={str(offset)}'\n",
    "    response = requests.get(url) # get website information\n",
    "    df = pd.json_normalize(response.json()) # turn response into a pandas dataframe\n",
    "    traffic_df_list.append(df) #append dataframe to list of previous api datasets\n",
    "    offset += 1000 #increase offset to get new data\n",
    "\n",
    "    if not response.json(): #if response is empty, we have reached the end of the dataset\n",
    "        break\n",
    "\n",
    "    if response.status_code != 200: # if the status code is not successful, stop\n",
    "        print(\"Not a 200 Response Code\")\n",
    "        break\n",
    "        \n",
    "    time.sleep(1)\n",
    "    \n",
    "    if i == 500:\n",
    "        print(\"Took too long\")\n",
    "        break"
   ]
  },
  {
   "cell_type": "code",
   "execution_count": 3,
   "metadata": {
    "tags": []
   },
   "outputs": [],
   "source": [
    "Fremont = pd.concat(traffic_df_list)"
   ]
  },
  {
   "cell_type": "code",
   "execution_count": 4,
   "metadata": {
    "tags": []
   },
   "outputs": [
    {
     "data": {
      "text/html": [
       "<div>\n",
       "<style scoped>\n",
       "    .dataframe tbody tr th:only-of-type {\n",
       "        vertical-align: middle;\n",
       "    }\n",
       "\n",
       "    .dataframe tbody tr th {\n",
       "        vertical-align: top;\n",
       "    }\n",
       "\n",
       "    .dataframe thead th {\n",
       "        text-align: right;\n",
       "    }\n",
       "</style>\n",
       "<table border=\"1\" class=\"dataframe\">\n",
       "  <thead>\n",
       "    <tr style=\"text-align: right;\">\n",
       "      <th></th>\n",
       "      <th>date</th>\n",
       "      <th>fremont_bridge</th>\n",
       "      <th>fremont_bridge_nb</th>\n",
       "      <th>fremont_bridge_sb</th>\n",
       "    </tr>\n",
       "  </thead>\n",
       "  <tbody>\n",
       "    <tr>\n",
       "      <th>0</th>\n",
       "      <td>2023-12-31T23:00:00.000</td>\n",
       "      <td>45</td>\n",
       "      <td>15</td>\n",
       "      <td>30</td>\n",
       "    </tr>\n",
       "    <tr>\n",
       "      <th>1</th>\n",
       "      <td>2023-12-31T22:00:00.000</td>\n",
       "      <td>22</td>\n",
       "      <td>12</td>\n",
       "      <td>10</td>\n",
       "    </tr>\n",
       "    <tr>\n",
       "      <th>2</th>\n",
       "      <td>2023-12-31T21:00:00.000</td>\n",
       "      <td>20</td>\n",
       "      <td>9</td>\n",
       "      <td>11</td>\n",
       "    </tr>\n",
       "    <tr>\n",
       "      <th>3</th>\n",
       "      <td>2023-12-31T20:00:00.000</td>\n",
       "      <td>27</td>\n",
       "      <td>14</td>\n",
       "      <td>13</td>\n",
       "    </tr>\n",
       "    <tr>\n",
       "      <th>4</th>\n",
       "      <td>2023-12-31T19:00:00.000</td>\n",
       "      <td>33</td>\n",
       "      <td>14</td>\n",
       "      <td>19</td>\n",
       "    </tr>\n",
       "  </tbody>\n",
       "</table>\n",
       "</div>"
      ],
      "text/plain": [
       "                      date fremont_bridge fremont_bridge_nb fremont_bridge_sb\n",
       "0  2023-12-31T23:00:00.000             45                15                30\n",
       "1  2023-12-31T22:00:00.000             22                12                10\n",
       "2  2023-12-31T21:00:00.000             20                 9                11\n",
       "3  2023-12-31T20:00:00.000             27                14                13\n",
       "4  2023-12-31T19:00:00.000             33                14                19"
      ]
     },
     "execution_count": 4,
     "metadata": {},
     "output_type": "execute_result"
    }
   ],
   "source": [
    "Fremont.head()"
   ]
  },
  {
   "cell_type": "code",
   "execution_count": 5,
   "metadata": {
    "tags": []
   },
   "outputs": [],
   "source": [
    "#dropping non-target variable\n",
    "Fremont.drop(['fremont_bridge_nb','fremont_bridge_sb'],axis=1,inplace=True)"
   ]
  },
  {
   "cell_type": "code",
   "execution_count": 6,
   "metadata": {
    "tags": []
   },
   "outputs": [],
   "source": [
    "#renaming columns\n",
    "Fremont.rename(columns={'fremont_bridge': 'Total'}, inplace = True)"
   ]
  },
  {
   "cell_type": "code",
   "execution_count": 7,
   "metadata": {
    "tags": []
   },
   "outputs": [
    {
     "data": {
      "text/plain": [
       "date     object\n",
       "Total    object\n",
       "dtype: object"
      ]
     },
     "execution_count": 7,
     "metadata": {},
     "output_type": "execute_result"
    }
   ],
   "source": [
    "Fremont.dtypes"
   ]
  },
  {
   "cell_type": "code",
   "execution_count": 8,
   "metadata": {
    "tags": []
   },
   "outputs": [],
   "source": [
    "#changing dtypes\n",
    "Fremont.date = pd.to_datetime(Fremont.date)\n",
    "Fremont.Total = pd.to_numeric(Fremont.Total, errors='coerce')"
   ]
  },
  {
   "cell_type": "code",
   "execution_count": 9,
   "metadata": {
    "tags": []
   },
   "outputs": [],
   "source": [
    "#setting date as the index\n",
    "Fremont.set_index('date', inplace = True)"
   ]
  },
  {
   "cell_type": "code",
   "execution_count": 10,
   "metadata": {
    "tags": []
   },
   "outputs": [
    {
     "name": "stdout",
     "output_type": "stream",
     "text": [
      "The maximum date in the dataframe is 2023-12-31 23:00:00\n",
      "The minimum date in the dataframe is 2012-10-02 13:00:00\n"
     ]
    }
   ],
   "source": [
    "print('The maximum date in the dataframe is', Fremont.index.max())\n",
    "print('The minimum date in the dataframe is', Fremont.index.min())"
   ]
  },
  {
   "cell_type": "code",
   "execution_count": 11,
   "metadata": {
    "tags": []
   },
   "outputs": [
    {
     "data": {
      "text/plain": [
       "<Axes: title={'center': 'Fremont Bridge bicycle traffic'}, xlabel='date'>"
      ]
     },
     "execution_count": 11,
     "metadata": {},
     "output_type": "execute_result"
    },
    {
     "data": {
      "image/png": "[encoded data removed]",
      "text/plain": [
       "<Figure size 1200x700 with 1 Axes>"
      ]
     },
     "metadata": {},
     "output_type": "display_data"
    }
   ],
   "source": [
    "#plotting days, month, year\n",
    "Fremont_daily = Fremont.resample('d').sum()\n",
    "Fremont_daily[Fremont_daily.index == pd.to_datetime('2023-12-31')]\n",
    "Fremont_daily.plot(figsize=(12,7), title = 'Fremont Bridge bicycle traffic')"
   ]
  },
  {
   "cell_type": "markdown",
   "metadata": {},
   "source": [
    "The above graph shows bike traffic by date. There is obvious seasonality in the dataset. There is less bike traffic in the winter than the summer. The start of covid also reduced bike traffic in Fremont."
   ]
  },
  {
   "cell_type": "code",
   "execution_count": 12,
   "metadata": {
    "tags": []
   },
   "outputs": [],
   "source": [
    "#extracting day of week and year variable\n",
    "Fremont_daily['day_of_week'] = Fremont_daily.index.dayofweek\n",
    "Fremont_daily['year'] = Fremont_daily.index.year"
   ]
  },
  {
   "cell_type": "code",
   "execution_count": 13,
   "metadata": {
    "tags": []
   },
   "outputs": [],
   "source": [
    "#add a holiday column\n",
    "from pandas.tseries.holiday import USFederalHolidayCalendar\n",
    "cal = USFederalHolidayCalendar()\n",
    "holidays = cal.holidays('2012-10-03 00:00:00','2020-09-30')\n",
    "Fremont_daily = Fremont_daily.join(pd.Series(1, index=holidays,name='holiday'))\n",
    "Fremont_daily['holiday'].fillna(0, inplace=True)"
   ]
  },
  {
   "cell_type": "code",
   "execution_count": 14,
   "metadata": {
    "tags": []
   },
   "outputs": [],
   "source": [
    "#add a daylight seasonality column\n",
    "def hours_of_daylight(date, axis=23.44, latitude=47.61):\n",
    "    'this function computes the hours of daylight for a particular date and latitude'\n",
    "    days = (date-pd.to_datetime('2000-12-21')).days\n",
    "    m = (1. - np.tan(np.radians(latitude)) * np.tan(np.radians(axis) * np.cos(days*2*np.pi/365.25)))\n",
    "    return 24.*np.degrees(np.arccos(1-np.clip(m,0,2,))) / 180\n",
    "\n",
    "Fremont_daily['daylight_hrs'] = Fremont_daily.index.map(hours_of_daylight)"
   ]
  },
  {
   "cell_type": "code",
   "execution_count": 15,
   "metadata": {
    "tags": []
   },
   "outputs": [
    {
     "data": {
      "text/plain": [
       "Text(0.5, 1.0, 'hours of daylight')"
      ]
     },
     "execution_count": 15,
     "metadata": {},
     "output_type": "execute_result"
    },
    {
     "data": {
      "image/png": "[encoded data removed]",
      "text/plain": [
       "<Figure size 1200x500 with 1 Axes>"
      ]
     },
     "metadata": {},
     "output_type": "display_data"
    }
   ],
   "source": [
    "#showing daylight seasonality column. The winter has less daylight that the summer.\n",
    "Fremont_daily.daylight_hrs.plot(figsize=(12,5))\n",
    "plt.title('hours of daylight', fontsize=15)"
   ]
  },
  {
   "cell_type": "markdown",
   "metadata": {},
   "source": [
    "## Weather dataset"
   ]
  },
  {
   "cell_type": "markdown",
   "metadata": {},
   "source": [
    "Daily weather data from the [NOAA](https://www.ncdc.noaa.gov/cdo-web/search). Station ID: USW00024233 (SEATTLE TACOMA AIRPORT)."
   ]
  },
  {
   "cell_type": "markdown",
   "metadata": {
    "tags": []
   },
   "source": [
    "## Weather Feature selection\n",
    "\n",
    "- ADPT = Average Dew Point Temperature for the day (tenths of degrees C)\n",
    "- ASLP = Average Sea Level Pressure for the day (hPa * 10)\n",
    "- ASTP = Average Station Level Pressure for the day (hPa * 10)\n",
    "- AWBT = Average Wet Bulb Temperature for the day (tenths of degrees C)\n",
    "- [x] AWND = Average daily wind speed\n",
    "- [x] PRCP = Precipitation\n",
    "- [x] RHAV = Average relative humidity for the day (percent)\n",
    "- RHMN = Minimum relative humidity for the day (percent)\n",
    "- RHMX = Maximum relative humidity for the day (percent)\n",
    "- [x] SNOW = Snowfall \n",
    "- SNWD = Snow depth \n",
    "- [x] TAVG = Average temperature\n",
    "- [x] TMAX = Maximum temperature\n",
    "- [x] TMIN = Maximum temperature\n",
    "- WDF2 = Direction of fastest 2-minute wind (degrees)\n",
    "- WDF5 = Direction of fastest 5-second wind (degrees)\n",
    "- [x] WSF2 = Fastest 2-minute wind speed (tenths of meters per second)\n",
    "- WSF5 = Fastest 5-second wind speed (tenths of meters per second)\n",
    "- WT01 = Weather Type Fog, ice fog, or freezing fog (may include heavy fog)\n",
    "- WT02 = Weather Type Heavy fog or heaving freezing fog (not always distinquished from fog)\n",
    "- WT03 = Weather Type Thunder\n",
    "- WT04 = Weather Type Ice pellets, sleet, snow pellets, or small hail\n",
    "- WT05 = Weather Type Hail (may include small hail)\n",
    "- WT08 = Weather Type Smoke or haze\n",
    "- WT13 = Weather Type Mist\n",
    "- WT14 = Weather Type Drizzle\n",
    "- WT16 = Weather Type Rain (may include freezing rain, drizzle, and freezing drizzle)"
   ]
  },
  {
   "cell_type": "code",
   "execution_count": null,
   "metadata": {
    "tags": []
   },
   "outputs": [],
   "source": [
    "offset = 0 # API offset\n",
    "i = 0 #iterations\n",
    "start_date = pd.to_datetime('2018-10-01') #start date \n",
    "end_date = pd.to_datetime('2019-09-30') #end date of data. 1 year ahead due to api restrictions\n",
    "weather_list = [] #list of weather dataframes\n",
    "\n",
    "while True:\n",
    "    i += 1 #adding to iterations\n",
    "    \n",
    "    str_start_date = start_date.strftime('%Y-%m-%d') #Start date to string for url\n",
    "    str_end_date = end_date.strftime('%Y-%m-%d') #End date to string for url\n",
    "    \n",
    "    if start_date >= pd.to_datetime('today'): #If start date is ahead of today break.\n",
    "        print('Done')\n",
    "        break\n",
    "        \n",
    "    url = f'https://www.ncei.noaa.gov/cdo-web/api/v2/data?datasetid=GHCND&stationid=GHCND:USW00024233&units=standard&startdate={str_start_date}&enddate={str_end_date}&limit=1000&offset={offset}'\n",
    "    #URL f-string with offset, start_date and end_date inputs.\n",
    "    \n",
    "    response = requests.get(url, headers={\"user-agent\": 'Mozilla/5.0 (Macintosh; Intel Mac OS X 10_15_7) AppleWebKit/605.1.15 (KHTML, like Gecko) Version/16.5.2 Safari/605.1.15',\"Token\": weather_token})\n",
    "    #get website information, headers add user agent and token\n",
    "    \n",
    "    try:\n",
    "        weather = pd.json_normalize(response.json()['results']) #turn json object into pandas dataframe\n",
    "        weather_list.append(weather) #append dataframe to dataframe list\n",
    "        \n",
    "        if response.json()['metadata']['resultset']['count'] > (offset + 1000): #1000 is the limit. add to the offset if there is remaining data\n",
    "            offset += 1000\n",
    "        else:\n",
    "            start_date = start_date + pd.offsets.DateOffset(years=1) #if there are no additional information for that date add 1 year\n",
    "            end_date = end_date + pd.offsets.DateOffset(years=1)# add a year to end date\n",
    "            offset = 0 #reset offset\n",
    "        \n",
    "    except:\n",
    "        print(response.status_code) # if error print response and\n",
    "    \n",
    "    if i == 200: #prevent the while statement from running forever\n",
    "        print('iteration max')\n",
    "        break\n",
    "    \n",
    "    time.sleep(random.randint(20, 60)) #prevent overloading the dataframe\n",
    "    \n",
    "    "
   ]
  },
  {
   "cell_type": "code",
   "execution_count": null,
   "metadata": {
    "tags": []
   },
   "outputs": [],
   "source": [
    "#joining dataframe list\n",
    "weather = pd.concat(weather_list)"
   ]
  },
  {
   "cell_type": "markdown",
   "metadata": {},
   "source": [
    "### Weather data exploration"
   ]
  },
  {
   "cell_type": "code",
   "execution_count": null,
   "metadata": {},
   "outputs": [],
   "source": [
    "pd.set_option('display.max_columns', None)\n",
    "weather.head()"
   ]
  },
  {
   "cell_type": "code",
   "execution_count": null,
   "metadata": {},
   "outputs": [],
   "source": [
    "weather.shape"
   ]
  },
  {
   "cell_type": "code",
   "execution_count": null,
   "metadata": {},
   "outputs": [],
   "source": [
    "weather.dtypes"
   ]
  },
  {
   "cell_type": "code",
   "execution_count": null,
   "metadata": {},
   "outputs": [],
   "source": [
    "weather[weather.duplicated()]"
   ]
  },
  {
   "cell_type": "code",
   "execution_count": null,
   "metadata": {
    "tags": []
   },
   "outputs": [],
   "source": [
    "#Removing API error duplicates.\n",
    "weather = weather[~weather.duplicated()]"
   ]
  },
  {
   "cell_type": "code",
   "execution_count": null,
   "metadata": {
    "tags": []
   },
   "outputs": [],
   "source": [
    "#group weather indicator by day\n",
    "weather = weather.pivot(index='date', columns='datatype', values='value')"
   ]
  },
  {
   "cell_type": "code",
   "execution_count": null,
   "metadata": {
    "tags": []
   },
   "outputs": [],
   "source": [
    "#filtering to columns I want to use.\n",
    "weather = weather[['AWND','PRCP','RHAV','SNOW','TAVG','TMAX','TMIN','WSF2']]"
   ]
  },
  {
   "cell_type": "code",
   "execution_count": null,
   "metadata": {
    "tags": []
   },
   "outputs": [],
   "source": [
    "#Change format for join later\n",
    "weather.index = pd.to_datetime(weather.index)"
   ]
  },
  {
   "cell_type": "code",
   "execution_count": null,
   "metadata": {
    "tags": []
   },
   "outputs": [],
   "source": [
    "#Fix pivot column header levels\n",
    "weather = weather.reset_index().rename_axis(None, axis=1).set_index('date')"
   ]
  },
  {
   "cell_type": "code",
   "execution_count": null,
   "metadata": {},
   "outputs": [],
   "source": [
    "# Showing average tempature\n",
    "weather.TAVG.plot()"
   ]
  },
  {
   "cell_type": "code",
   "execution_count": null,
   "metadata": {},
   "outputs": [],
   "source": [
    "#showing snow throughout the year\n",
    "weather.SNOW.plot()"
   ]
  },
  {
   "cell_type": "code",
   "execution_count": null,
   "metadata": {},
   "outputs": [],
   "source": [
    "# graphing precipitation\n",
    "weather.PRCP.plot()"
   ]
  },
  {
   "cell_type": "markdown",
   "metadata": {},
   "source": [
    "## Merge weather and daily traffic datasets"
   ]
  },
  {
   "cell_type": "code",
   "execution_count": null,
   "metadata": {},
   "outputs": [],
   "source": [
    "#joining both dataframes. Both have a date index\n",
    "daily = weather.join(Fremont_daily, how='inner')"
   ]
  },
  {
   "cell_type": "code",
   "execution_count": null,
   "metadata": {
    "tags": []
   },
   "outputs": [],
   "source": [
    "#removing null rows\n",
    "daily = daily[~daily.isnull().any(axis=1)]"
   ]
  },
  {
   "cell_type": "code",
   "execution_count": null,
   "metadata": {
    "tags": []
   },
   "outputs": [],
   "source": [
    "#renaming target column\n",
    "daily.rename(columns = {'Total' : 'actual'}, inplace = True)"
   ]
  },
  {
   "cell_type": "code",
   "execution_count": null,
   "metadata": {},
   "outputs": [],
   "source": [
    "#seperating covid years into its own dataframe\n",
    "covid_2020 = daily[(daily.index>=pd.to_datetime('2020/01/01')) & (daily.index<=pd.to_datetime('2020/12/31'))]"
   ]
  },
  {
   "cell_type": "markdown",
   "metadata": {},
   "source": [
    "## Model"
   ]
  },
  {
   "cell_type": "code",
   "execution_count": null,
   "metadata": {},
   "outputs": [],
   "source": [
    "from sklearn.model_selection import train_test_split, GridSearchCV\n",
    "from sklearn.linear_model import LinearRegression,Lasso,Ridge\n",
    "from sklearn.preprocessing import OneHotEncoder, PolynomialFeatures, MinMaxScaler\n",
    "from sklearn.compose import ColumnTransformer\n",
    "from sklearn.pipeline import Pipeline\n",
    "from sklearn.metrics import mean_squared_error"
   ]
  },
  {
   "cell_type": "code",
   "execution_count": null,
   "metadata": {
    "tags": []
   },
   "outputs": [],
   "source": [
    "#defining X and Y\n",
    "X = daily[['AWND', 'PRCP', 'RHAV', 'SNOW', 'TAVG', 'TMAX', 'TMIN', 'WSF2', 'day_of_week', 'year', 'holiday', 'daylight_hrs']]\n",
    "y = daily[['actual']]"
   ]
  },
  {
   "cell_type": "code",
   "execution_count": null,
   "metadata": {},
   "outputs": [],
   "source": [
    "#splitting training and test sets\n",
    "X_train,X_test,y_train,y_test = train_test_split(X,y)"
   ]
  },
  {
   "cell_type": "code",
   "execution_count": null,
   "metadata": {
    "tags": []
   },
   "outputs": [],
   "source": [
    "# categorical processor\n",
    "cat_features = ['day_of_week','holiday']\n",
    "cat_processor = Pipeline(steps=[\n",
    "    ('encoder', OneHotEncoder())\n",
    "])\n",
    "\n",
    "# numerical processor\n",
    "num_features = ['year','daylight_hrs','AWND', 'PRCP', 'RHAV', 'SNOW', 'TAVG', 'TMAX', 'TMIN', 'WSF2']\n",
    "num_processor = Pipeline(steps=[\n",
    "    ('scaler', MinMaxScaler())\n",
    "])\n",
    "\n",
    "# preprocessor\n",
    "processor = ColumnTransformer(transformers=[\n",
    "    ('cat_processor',cat_processor,cat_features),\n",
    "    ('num_processor',num_processor,num_features)\n",
    "])\n",
    "\n",
    "# pipeline\n",
    "pipe = Pipeline(steps=[\n",
    "    ('preprocessor',processor),\n",
    "    ('poly_features',PolynomialFeatures(include_bias=False)),\n",
    "    ('reg', Ridge())\n",
    "])"
   ]
  },
  {
   "cell_type": "code",
   "execution_count": null,
   "metadata": {},
   "outputs": [],
   "source": [
    "#establishing parameters\n",
    "parameters = {\n",
    "    'reg__alpha' : [0.0001, 0.001,0.01,0.1,1,10,100],\n",
    "    'poly_features__degree' : [1,2,3,4]\n",
    "}"
   ]
  },
  {
   "cell_type": "code",
   "execution_count": null,
   "metadata": {},
   "outputs": [],
   "source": [
    "# Grid Search\n",
    "grid = GridSearchCV(pipe,parameters,cv=10,scoring='neg_root_mean_squared_error',n_jobs=-1,verbose=True)"
   ]
  },
  {
   "cell_type": "code",
   "execution_count": null,
   "metadata": {},
   "outputs": [],
   "source": [
    "#fitting grid\n",
    "grid.fit(X_train,y_train)"
   ]
  },
  {
   "cell_type": "code",
   "execution_count": null,
   "metadata": {
    "tags": []
   },
   "outputs": [],
   "source": [
    "#grids best parameters\n",
    "grid.best_params_"
   ]
  },
  {
   "cell_type": "code",
   "execution_count": null,
   "metadata": {},
   "outputs": [],
   "source": [
    "# predicting y_test variables\n",
    "y_test_pred = grid.predict(X_test)"
   ]
  },
  {
   "cell_type": "code",
   "execution_count": null,
   "metadata": {},
   "outputs": [],
   "source": [
    "#showing best cross validation results\n",
    "results = pd.DataFrame(grid.cv_results_)[['mean_test_score', 'params']]\n",
    "results.head()"
   ]
  },
  {
   "cell_type": "code",
   "execution_count": null,
   "metadata": {},
   "outputs": [],
   "source": [
    "#root mean squared error\n",
    "np.sqrt(mean_squared_error(y_test,y_test_pred))"
   ]
  },
  {
   "cell_type": "code",
   "execution_count": null,
   "metadata": {},
   "outputs": [],
   "source": [
    "#plotting negative root mean squared error against\n",
    "results.mean_test_score.plot(marker='o')\n",
    "plt.title('negative root mean squared error')"
   ]
  },
  {
   "cell_type": "code",
   "execution_count": null,
   "metadata": {
    "tags": []
   },
   "outputs": [],
   "source": [
    "#Params (X-axis) for above graph\n",
    "results.params"
   ]
  },
  {
   "cell_type": "code",
   "execution_count": null,
   "metadata": {},
   "outputs": [],
   "source": [
    "# predicting all x varibales\n",
    "daily['predicted'] = grid.predict(X)"
   ]
  },
  {
   "cell_type": "code",
   "execution_count": null,
   "metadata": {},
   "outputs": [],
   "source": [
    "# plot actual and predicted values\n",
    "daily[['actual','predicted']].plot(alpha=0.5, figsize=(12,5))\n",
    "plt.title('daily traffic',fontsize=15)"
   ]
  },
  {
   "cell_type": "code",
   "execution_count": null,
   "metadata": {},
   "outputs": [],
   "source": [
    "# plot actual and predicted values\n",
    "daily[['actual','predicted']].plot(alpha=0.5, figsize=(12,5))\n",
    "plt.title('Freemont Bridge Traffic',fontsize=15)"
   ]
  },
  {
   "cell_type": "code",
   "execution_count": null,
   "metadata": {},
   "outputs": [],
   "source": [
    "#plot actual and predicted monthly values\n",
    "daily[['actual','predicted']].resample('W').sum().plot(figsize=(12,5))\n",
    "plt.title('monthly traffic',fontsize=15)"
   ]
  },
  {
   "cell_type": "markdown",
   "metadata": {},
   "source": [
    "**Model coefficients**"
   ]
  },
  {
   "cell_type": "code",
   "execution_count": null,
   "metadata": {},
   "outputs": [],
   "source": [
    "# feature names\n",
    "encoded_feature_names = grid.best_estimator_['preprocessor'].named_transformers_['cat_processor']['encoder'].get_feature_names_out(cat_features)\n",
    "feature_names = list(encoded_feature_names)+num_features\n",
    "feature_names = grid.best_estimator_['poly_features'].get_feature_names_out(feature_names)"
   ]
  },
  {
   "cell_type": "code",
   "execution_count": null,
   "metadata": {},
   "outputs": [],
   "source": [
    "#coefficients\n",
    "coefficients = grid.best_estimator_['reg'].coef_[0]\n",
    "coeff_df = pd.DataFrame(coefficients, feature_names, columns=['coefficient'])"
   ]
  },
  {
   "cell_type": "code",
   "execution_count": null,
   "metadata": {
    "tags": []
   },
   "outputs": [],
   "source": [
    "top_bottom_coeff = pd.concat([coeff_df.sort_values(by='coefficient').tail(50), coeff_df.sort_values(by='coefficient').head(50)]).sort_values(by='coefficient')"
   ]
  },
  {
   "cell_type": "code",
   "execution_count": null,
   "metadata": {},
   "outputs": [],
   "source": [
    "plt.figure(figsize=(12,10))\n",
    "top_bottom_coeff.coefficient.plot(kind='barh',figsize=(15,30))"
   ]
  },
  {
   "cell_type": "markdown",
   "metadata": {
    "tags": []
   },
   "source": [
    "## What would 2020 look like without Covid?"
   ]
  },
  {
   "cell_type": "code",
   "execution_count": null,
   "metadata": {},
   "outputs": [],
   "source": [
    "#define covid varibales\n",
    "y_2020 = covid_2020['actual'] # target vector\n",
    "X_2020 = covid_2020.drop('actual', axis = 1) # feature matrix"
   ]
  },
  {
   "cell_type": "code",
   "execution_count": null,
   "metadata": {},
   "outputs": [],
   "source": [
    "#predicting what bike traffic would be without covid\n",
    "covid_2020['predicted_ridge'] = grid.predict(X_2020)"
   ]
  },
  {
   "cell_type": "code",
   "execution_count": null,
   "metadata": {},
   "outputs": [],
   "source": [
    "# plot actual and predicted values\n",
    "covid_2020[['actual','predicted_ridge']].plot(alpha=0.5, figsize=(15,5))\n",
    "plt.title('2020 daily traffic',fontsize=15)"
   ]
  },
  {
   "cell_type": "markdown",
   "metadata": {},
   "source": [
    "## Random Forest Regressor"
   ]
  },
  {
   "cell_type": "code",
   "execution_count": null,
   "metadata": {},
   "outputs": [],
   "source": [
    "from sklearn.model_selection import GridSearchCV\n",
    "from sklearn.ensemble import RandomForestRegressor"
   ]
  },
  {
   "cell_type": "code",
   "execution_count": null,
   "metadata": {},
   "outputs": [],
   "source": [
    "# pipeline\n",
    "pipe = Pipeline(steps=[\n",
    "    ('preprocessor',processor),\n",
    "    ('reg', RandomForestRegressor(n_jobs=-1))\n",
    "])"
   ]
  },
  {
   "cell_type": "markdown",
   "metadata": {},
   "source": [
    "- **min_samples_leaf** minimum samples required on output leaf node\n",
    "- **min_samples_split** minimum samples required in node to split\n",
    "- **n_estimators** number of trees\n",
    "- **max_depth** max depth of the trees. prevents overfitting"
   ]
  },
  {
   "cell_type": "code",
   "execution_count": null,
   "metadata": {},
   "outputs": [],
   "source": [
    "#setting up parameters\n",
    "parameters = {\"reg__min_samples_leaf\" : [1,2, 4,  8,], # default 1\n",
    "              \"reg__min_samples_split\" : [2,4,8,16], # default 2\n",
    "              \"reg__n_estimators\" : [50,100,200], # default 100\n",
    "              \"reg__max_depth\" : [2,5,10]} # default None (unlimited)"
   ]
  },
  {
   "cell_type": "code",
   "execution_count": null,
   "metadata": {},
   "outputs": [],
   "source": [
    "#define gridsearch \n",
    "grid = GridSearchCV(pipe, parameters,cv=10,scoring='neg_root_mean_squared_error',n_jobs=-1,verbose=True)"
   ]
  },
  {
   "cell_type": "code",
   "execution_count": null,
   "metadata": {},
   "outputs": [],
   "source": [
    "# fit regression pipeline to the data\n",
    "grid.fit(X_train,y_train)"
   ]
  },
  {
   "cell_type": "code",
   "execution_count": null,
   "metadata": {},
   "outputs": [],
   "source": [
    "# predictions\n",
    "daily_data['predictions_ran_for'] = grid.predict(X_test)"
   ]
  },
  {
   "cell_type": "code",
   "execution_count": null,
   "metadata": {},
   "outputs": [],
   "source": [
    "# plot actual and predicted values\n",
    "daily_data[['Fremont Bridge Total','predictions_ran_for']].plot(alpha=0.5, figsize=(16,5))\n",
    "plt.title('daily traffic',fontsize=15)"
   ]
  },
  {
   "cell_type": "code",
   "execution_count": null,
   "metadata": {},
   "outputs": [],
   "source": [
    "# plot actual against predicted values\n",
    "daily_data.plot.scatter(x='Fremont Bridge Total', y ='predictions_ran_for')\n",
    "plt.plot([0,12000],[0,12000],'r--', label='ideal predictions')\n",
    "plt.legend()"
   ]
  },
  {
   "cell_type": "code",
   "execution_count": null,
   "metadata": {},
   "outputs": [],
   "source": [
    "covid_2020['predicted_rf'] = pipe.predict(X_2020)"
   ]
  },
  {
   "cell_type": "code",
   "execution_count": null,
   "metadata": {},
   "outputs": [],
   "source": [
    "covid_2020"
   ]
  },
  {
   "cell_type": "code",
   "execution_count": null,
   "metadata": {},
   "outputs": [],
   "source": [
    "plt.plot(covid_2020.index, covid_2020['predicted_rf'], color = 'Blue')\n",
    "plt.plot(covid_2020.index, covid_2020['predicted_ridge'], color = 'Red')\n",
    "plt.plot(covid_2020.index, covid_2020['actual'], color = 'Black')\n",
    "\n",
    "plt.figure(figsize=(12,7))\n",
    "plt.xlabel(\"Bike traffic\")\n",
    "plt.ylabel(\"date\")\n",
    "plt.title('Random forest, ridge vs actual')\n",
    "plt.show()"
   ]
  },
  {
   "cell_type": "code",
   "execution_count": null,
   "metadata": {},
   "outputs": [],
   "source": []
  }
 ],
 "metadata": {
  "kernelspec": {
   "display_name": "Python 3 (ipykernel)",
   "language": "python",
   "name": "python3"
  },
  "language_info": {
   "codemirror_mode": {
    "name": "ipython",
    "version": 3
   },
   "file_extension": ".py",
   "mimetype": "text/x-python",
   "name": "python",
   "nbconvert_exporter": "python",
   "pygments_lexer": "ipython3",
   "version": "3.11.5"
  }
 },
 "nbformat": 4,
 "nbformat_minor": 4
}

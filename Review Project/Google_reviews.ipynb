{
 "cells": [
  {
   "cell_type": "code",
   "execution_count": 1,
   "metadata": {},
   "outputs": [],
   "source": [
    "import requests\n",
    "import json\n",
    "import time\n",
    "import pandas as pd\n",
    "\n",
    "file = open(\"GeoapiKey.txt\",\"r\")\n",
    "GeoapiKey = file.read()\n",
    "file.close()\n",
    "\n",
    "file = open(\"google_apiKey.txt\",\"r\")\n",
    "apiKey = file.read()\n",
    "file.close()"
   ]
  },
  {
   "cell_type": "code",
   "execution_count": 2,
   "metadata": {},
   "outputs": [],
   "source": [
    "class GoogleGeocode(object):\n",
    "    def __init__(self, GeoapiKey):\n",
    "        super(GoogleGeocode, self).__init__()\n",
    "        self.apiKey = GeoapiKey\n",
    "        \n",
    "    def get_coordinates(self, address):\n",
    "        endpoint_url = 'https://maps.googleapis.com/maps/api/geocode/json'\n",
    "        params = {\n",
    "            'address': address,\n",
    "            'key': self.apiKey\n",
    "        }\n",
    "        res = requests.get(endpoint_url, params = params)\n",
    "        georesults =  json.loads(res.content)\n",
    "        lat = georesults['results'][0]['geometry']['location']['lat']\n",
    "        lng = georesults['results'][0]['geometry']['location']['lng']\n",
    "        cordinates = str(lat) + ',' + str(lng)\n",
    "        return(cordinates)\n",
    "        "
   ]
  },
  {
   "cell_type": "code",
   "execution_count": 3,
   "metadata": {},
   "outputs": [],
   "source": [
    "class GooglePlaces(object):\n",
    "    def __init__(self, apiKey):\n",
    "        super(GooglePlaces, self).__init__()\n",
    "        self.apiKey = apiKey\n",
    " \n",
    "    def search_places_by_coordinate(self, location, types):\n",
    "        endpoint_url = \"https://maps.googleapis.com/maps/api/place/nearbysearch/json?\"\n",
    "        places = []\n",
    "        params = {\n",
    "            'location': location,\n",
    "            'types': types,\n",
    "            'rankby' : 'distance',\n",
    "            'key': self.apiKey\n",
    "        }\n",
    "        res = requests.get(endpoint_url, params = params)\n",
    "        results =  json.loads(res.content)\n",
    "        places.extend(results['results'])\n",
    "        time.sleep(2)\n",
    "        \n",
    "        while \"next_page_token\" in results:\n",
    "            params['pagetoken'] = results['next_page_token'],\n",
    "            res = requests.get(endpoint_url, params = params)\n",
    "            results = json.loads(res.content)\n",
    "            places.extend(results['results'])\n",
    "            time.sleep(2)\n",
    "        \n",
    "        return(places)\n",
    "\n",
    "    \n",
    "    def get_place_details(self, place_id, fields):\n",
    "        endpoint_url = \"https://maps.googleapis.com/maps/api/place/details/json\"\n",
    "        params = {\n",
    "            'placeid': place_id,\n",
    "            'fields': \",\".join(fields),\n",
    "            'key': self.apiKey\n",
    "        }\n",
    "        res = requests.get(endpoint_url, params = params)\n",
    "        place_details =  json.loads(res.content)\n",
    "        return(place_details)"
   ]
  },
  {
   "cell_type": "code",
   "execution_count": 4,
   "metadata": {},
   "outputs": [],
   "source": [
    "geoapi = GoogleGeocode(GeoapiKey)"
   ]
  },
  {
   "cell_type": "code",
   "execution_count": 5,
   "metadata": {},
   "outputs": [],
   "source": [
    "cordinates = geoapi.get_coordinates('Missoula')"
   ]
  },
  {
   "cell_type": "code",
   "execution_count": 6,
   "metadata": {},
   "outputs": [
    {
     "data": {
      "text/plain": [
       "'46.8721284,-113.9940314'"
      ]
     },
     "execution_count": 6,
     "metadata": {},
     "output_type": "execute_result"
    }
   ],
   "source": [
    "cordinates"
   ]
  },
  {
   "cell_type": "code",
   "execution_count": 7,
   "metadata": {},
   "outputs": [],
   "source": [
    "api = GooglePlaces(apiKey)"
   ]
  },
  {
   "cell_type": "code",
   "execution_count": 8,
   "metadata": {},
   "outputs": [],
   "source": [
    "places = api.search_places_by_coordinate(cordinates, types = 'restaurant')"
   ]
  },
  {
   "cell_type": "code",
   "execution_count": 9,
   "metadata": {},
   "outputs": [
    {
     "data": {
      "text/plain": [
       "{'business_status': 'OPERATIONAL',\n",
       " 'geometry': {'location': {'lat': 46.8721284, 'lng': -113.9940314},\n",
       "  'viewport': {'northeast': {'lat': 46.8734919802915,\n",
       "    'lng': -113.9927289197085},\n",
       "   'southwest': {'lat': 46.87079401970851, 'lng': -113.9954268802915}}},\n",
       " 'icon': 'https://maps.gstatic.com/mapfiles/place_api/icons/v1/png_71/restaurant-71.png',\n",
       " 'icon_background_color': '#FF9E67',\n",
       " 'icon_mask_base_uri': 'https://maps.gstatic.com/mapfiles/place_api/icons/v2/restaurant_pinlet',\n",
       " 'name': 'Zone 4061',\n",
       " 'opening_hours': {'open_now': True},\n",
       " 'place_id': 'ChIJoy1gRTzNXVMRymPfV2SZjaQ',\n",
       " 'plus_code': {'compound_code': 'V2C4+V9 Missoula, MT, USA',\n",
       "  'global_code': '85R8V2C4+V9'},\n",
       " 'reference': 'ChIJoy1gRTzNXVMRymPfV2SZjaQ',\n",
       " 'scope': 'GOOGLE',\n",
       " 'types': ['restaurant', 'point_of_interest', 'food', 'establishment'],\n",
       " 'vicinity': 'Missoula'}"
      ]
     },
     "execution_count": 9,
     "metadata": {},
     "output_type": "execute_result"
    }
   ],
   "source": [
    "places[0]"
   ]
  },
  {
   "cell_type": "markdown",
   "metadata": {},
   "source": [
    "Big limitation can only resturn 60 results. They used to have a radar search that would return 200 results. It was taken down. Google has it posted all over the web that workarounds are agianst their service terms to prevent web scraping. I decided not to take this risk."
   ]
  },
  {
   "cell_type": "code",
   "execution_count": 10,
   "metadata": {},
   "outputs": [
    {
     "data": {
      "text/plain": [
       "60"
      ]
     },
     "execution_count": 10,
     "metadata": {},
     "output_type": "execute_result"
    }
   ],
   "source": [
    "len(places)"
   ]
  },
  {
   "cell_type": "code",
   "execution_count": 11,
   "metadata": {},
   "outputs": [],
   "source": [
    "fields = ['name', 'user_ratings_total', 'formatted_address', 'opening_hours', 'permanently_closed', 'price_level', 'international_phone_number', 'website', 'rating', 'review']"
   ]
  },
  {
   "cell_type": "code",
   "execution_count": 12,
   "metadata": {},
   "outputs": [],
   "source": [
    "restaurants_list=[]\n",
    "\n",
    "for place in places:\n",
    "    details = api.get_place_details(place['place_id'], fields)\n",
    "    restaurants_list.append(pd.json_normalize(details))\n",
    "\n",
    "restaurants = pd.concat(restaurants_list)"
   ]
  },
  {
   "cell_type": "code",
   "execution_count": 13,
   "metadata": {},
   "outputs": [
    {
     "data": {
      "text/plain": [
       "60"
      ]
     },
     "execution_count": 13,
     "metadata": {},
     "output_type": "execute_result"
    }
   ],
   "source": [
    "len(restaurants)"
   ]
  },
  {
   "cell_type": "code",
   "execution_count": 14,
   "metadata": {},
   "outputs": [],
   "source": [
    "restaurants.drop(['html_attributions',\n",
    "                  'status',\n",
    "                  'result.opening_hours.open_now',\n",
    "                  'result.opening_hours.periods']\n",
    "                 , axis=1, inplace=True)"
   ]
  },
  {
   "cell_type": "code",
   "execution_count": 15,
   "metadata": {},
   "outputs": [],
   "source": [
    "restaurants.rename(columns = {'result.formatted_address':'Address', \n",
    "                              'result.international_phone_number':'Phone_Number', \n",
    "                              'result.name':'Name',\n",
    "                              'result.opening_hours.weekday_text': 'Hours_Open',\n",
    "                              'result.price_level' : 'Price_level',\n",
    "                              'result.reviews' : 'reviews',\n",
    "                              'result.website' : 'website',\n",
    "                              'result.rating': 'Rating',\n",
    "                              'result.user_ratings_total': '#_of_Ratings'}, inplace = True)"
   ]
  },
  {
   "cell_type": "code",
   "execution_count": 16,
   "metadata": {},
   "outputs": [],
   "source": [
    "restaurants = restaurants.set_index('Name')"
   ]
  },
  {
   "cell_type": "code",
   "execution_count": 17,
   "metadata": {},
   "outputs": [],
   "source": [
    "restaurants = restaurants.sort_values('Rating',  ascending=False)"
   ]
  },
  {
   "cell_type": "code",
   "execution_count": 18,
   "metadata": {},
   "outputs": [
    {
     "data": {
      "text/html": [
       "<div>\n",
       "<style scoped>\n",
       "    .dataframe tbody tr th:only-of-type {\n",
       "        vertical-align: middle;\n",
       "    }\n",
       "\n",
       "    .dataframe tbody tr th {\n",
       "        vertical-align: top;\n",
       "    }\n",
       "\n",
       "    .dataframe thead th {\n",
       "        text-align: right;\n",
       "    }\n",
       "</style>\n",
       "<table border=\"1\" class=\"dataframe\">\n",
       "  <thead>\n",
       "    <tr style=\"text-align: right;\">\n",
       "      <th></th>\n",
       "      <th>Address</th>\n",
       "      <th>Phone_Number</th>\n",
       "      <th>Hours_Open</th>\n",
       "      <th>Rating</th>\n",
       "      <th>reviews</th>\n",
       "      <th>#_of_Ratings</th>\n",
       "      <th>website</th>\n",
       "      <th>Price_level</th>\n",
       "      <th>result.permanently_closed</th>\n",
       "    </tr>\n",
       "    <tr>\n",
       "      <th>Name</th>\n",
       "      <th></th>\n",
       "      <th></th>\n",
       "      <th></th>\n",
       "      <th></th>\n",
       "      <th></th>\n",
       "      <th></th>\n",
       "      <th></th>\n",
       "      <th></th>\n",
       "      <th></th>\n",
       "    </tr>\n",
       "  </thead>\n",
       "  <tbody>\n",
       "    <tr>\n",
       "      <th>Clove Cart Pizza</th>\n",
       "      <td>Mobile Pizza Oven, Missoula, MT 59802, USA</td>\n",
       "      <td>+1 617-571-6894</td>\n",
       "      <td>[Monday: Closed, Tuesday: Closed, Wednesday: 1...</td>\n",
       "      <td>5.0</td>\n",
       "      <td>[{'author_name': 'Kaylee Swope', 'author_url':...</td>\n",
       "      <td>9.0</td>\n",
       "      <td>http://www.clovecart.com/</td>\n",
       "      <td>NaN</td>\n",
       "      <td>NaN</td>\n",
       "    </tr>\n",
       "    <tr>\n",
       "      <th>Gary's Local $6 Burgers</th>\n",
       "      <td>235 E Front St, Missoula, MT 59802, USA</td>\n",
       "      <td>NaN</td>\n",
       "      <td>[Monday: 12:00 – 2:30 PM, 5:00 – 11:00 PM, Tue...</td>\n",
       "      <td>4.9</td>\n",
       "      <td>[{'author_name': 'Luke Meissner', 'author_url'...</td>\n",
       "      <td>47.0</td>\n",
       "      <td>https://order.toasttab.com/online/garys-local</td>\n",
       "      <td>2.0</td>\n",
       "      <td>NaN</td>\n",
       "    </tr>\n",
       "    <tr>\n",
       "      <th>Tea &amp; Crepe Missoula</th>\n",
       "      <td>140 N Higgins Ave #103, Missoula, MT 59802, USA</td>\n",
       "      <td>+1 406-493-0271</td>\n",
       "      <td>[Monday: 11:30 AM – 9:30 PM, Tuesday: 11:30 AM...</td>\n",
       "      <td>4.8</td>\n",
       "      <td>[{'author_name': 'Brooke Blackler', 'author_ur...</td>\n",
       "      <td>115.0</td>\n",
       "      <td>http://teacrepemissoula.com/</td>\n",
       "      <td>NaN</td>\n",
       "      <td>NaN</td>\n",
       "    </tr>\n",
       "    <tr>\n",
       "      <th>Basal</th>\n",
       "      <td>114 N Higgins Ave, Missoula, MT 59802, USA</td>\n",
       "      <td>+1 406-540-4098</td>\n",
       "      <td>[Monday: 8:00 AM – 8:00 PM, Tuesday: 8:00 AM –...</td>\n",
       "      <td>4.7</td>\n",
       "      <td>[{'author_name': 'L G', 'author_url': 'https:/...</td>\n",
       "      <td>209.0</td>\n",
       "      <td>https://www.basalhospitality.com/</td>\n",
       "      <td>2.0</td>\n",
       "      <td>NaN</td>\n",
       "    </tr>\n",
       "    <tr>\n",
       "      <th>Wally and Buck</th>\n",
       "      <td>319 E Front St, Missoula, MT 59802, USA</td>\n",
       "      <td>+1 406-549-8157</td>\n",
       "      <td>[Monday: 11:00 AM – 9:00 PM, Tuesday: 11:00 AM...</td>\n",
       "      <td>4.7</td>\n",
       "      <td>[{'author_name': 'Sabrina Charlson', 'author_u...</td>\n",
       "      <td>395.0</td>\n",
       "      <td>http://wallyandbuck.com/</td>\n",
       "      <td>NaN</td>\n",
       "      <td>NaN</td>\n",
       "    </tr>\n",
       "  </tbody>\n",
       "</table>\n",
       "</div>"
      ],
      "text/plain": [
       "                                                                 Address  \\\n",
       "Name                                                                       \n",
       "Clove Cart Pizza              Mobile Pizza Oven, Missoula, MT 59802, USA   \n",
       "Gary's Local $6 Burgers          235 E Front St, Missoula, MT 59802, USA   \n",
       "Tea & Crepe Missoula     140 N Higgins Ave #103, Missoula, MT 59802, USA   \n",
       "Basal                         114 N Higgins Ave, Missoula, MT 59802, USA   \n",
       "Wally and Buck                   319 E Front St, Missoula, MT 59802, USA   \n",
       "\n",
       "                            Phone_Number  \\\n",
       "Name                                       \n",
       "Clove Cart Pizza         +1 617-571-6894   \n",
       "Gary's Local $6 Burgers              NaN   \n",
       "Tea & Crepe Missoula     +1 406-493-0271   \n",
       "Basal                    +1 406-540-4098   \n",
       "Wally and Buck           +1 406-549-8157   \n",
       "\n",
       "                                                                Hours_Open  \\\n",
       "Name                                                                         \n",
       "Clove Cart Pizza         [Monday: Closed, Tuesday: Closed, Wednesday: 1...   \n",
       "Gary's Local $6 Burgers  [Monday: 12:00 – 2:30 PM, 5:00 – 11:00 PM, Tue...   \n",
       "Tea & Crepe Missoula     [Monday: 11:30 AM – 9:30 PM, Tuesday: 11:30 AM...   \n",
       "Basal                    [Monday: 8:00 AM – 8:00 PM, Tuesday: 8:00 AM –...   \n",
       "Wally and Buck           [Monday: 11:00 AM – 9:00 PM, Tuesday: 11:00 AM...   \n",
       "\n",
       "                         Rating  \\\n",
       "Name                              \n",
       "Clove Cart Pizza            5.0   \n",
       "Gary's Local $6 Burgers     4.9   \n",
       "Tea & Crepe Missoula        4.8   \n",
       "Basal                       4.7   \n",
       "Wally and Buck              4.7   \n",
       "\n",
       "                                                                   reviews  \\\n",
       "Name                                                                         \n",
       "Clove Cart Pizza         [{'author_name': 'Kaylee Swope', 'author_url':...   \n",
       "Gary's Local $6 Burgers  [{'author_name': 'Luke Meissner', 'author_url'...   \n",
       "Tea & Crepe Missoula     [{'author_name': 'Brooke Blackler', 'author_ur...   \n",
       "Basal                    [{'author_name': 'L G', 'author_url': 'https:/...   \n",
       "Wally and Buck           [{'author_name': 'Sabrina Charlson', 'author_u...   \n",
       "\n",
       "                         #_of_Ratings  \\\n",
       "Name                                    \n",
       "Clove Cart Pizza                  9.0   \n",
       "Gary's Local $6 Burgers          47.0   \n",
       "Tea & Crepe Missoula            115.0   \n",
       "Basal                           209.0   \n",
       "Wally and Buck                  395.0   \n",
       "\n",
       "                                                               website  \\\n",
       "Name                                                                     \n",
       "Clove Cart Pizza                             http://www.clovecart.com/   \n",
       "Gary's Local $6 Burgers  https://order.toasttab.com/online/garys-local   \n",
       "Tea & Crepe Missoula                      http://teacrepemissoula.com/   \n",
       "Basal                                https://www.basalhospitality.com/   \n",
       "Wally and Buck                                http://wallyandbuck.com/   \n",
       "\n",
       "                         Price_level result.permanently_closed  \n",
       "Name                                                            \n",
       "Clove Cart Pizza                 NaN                       NaN  \n",
       "Gary's Local $6 Burgers          2.0                       NaN  \n",
       "Tea & Crepe Missoula             NaN                       NaN  \n",
       "Basal                            2.0                       NaN  \n",
       "Wally and Buck                   NaN                       NaN  "
      ]
     },
     "execution_count": 18,
     "metadata": {},
     "output_type": "execute_result"
    }
   ],
   "source": [
    "restaurants.head()"
   ]
  },
  {
   "cell_type": "code",
   "execution_count": 19,
   "metadata": {},
   "outputs": [],
   "source": [
    "review_dictionary = {}\n",
    "for key, value in restaurants.iterrows():\n",
    "    rest_review = value['reviews']\n",
    "    if type(rest_review) == float:\n",
    "        continue\n",
    "    else:\n",
    "        review_dictionary[key] = pd.json_normalize(rest_review)"
   ]
  },
  {
   "cell_type": "code",
   "execution_count": 20,
   "metadata": {
    "tags": []
   },
   "outputs": [
    {
     "data": {
      "text/html": [
       "<div>\n",
       "<style scoped>\n",
       "    .dataframe tbody tr th:only-of-type {\n",
       "        vertical-align: middle;\n",
       "    }\n",
       "\n",
       "    .dataframe tbody tr th {\n",
       "        vertical-align: top;\n",
       "    }\n",
       "\n",
       "    .dataframe thead th {\n",
       "        text-align: right;\n",
       "    }\n",
       "</style>\n",
       "<table border=\"1\" class=\"dataframe\">\n",
       "  <thead>\n",
       "    <tr style=\"text-align: right;\">\n",
       "      <th></th>\n",
       "      <th>author_name</th>\n",
       "      <th>author_url</th>\n",
       "      <th>language</th>\n",
       "      <th>original_language</th>\n",
       "      <th>profile_photo_url</th>\n",
       "      <th>rating</th>\n",
       "      <th>relative_time_description</th>\n",
       "      <th>text</th>\n",
       "      <th>time</th>\n",
       "      <th>translated</th>\n",
       "    </tr>\n",
       "  </thead>\n",
       "  <tbody>\n",
       "    <tr>\n",
       "      <th>0</th>\n",
       "      <td>L G</td>\n",
       "      <td>https://www.google.com/maps/contrib/1149292388...</td>\n",
       "      <td>en</td>\n",
       "      <td>en</td>\n",
       "      <td>https://lh3.googleusercontent.com/a/ACg8ocJekW...</td>\n",
       "      <td>5</td>\n",
       "      <td>5 months ago</td>\n",
       "      <td>AMAZING! fresh, delicious, filling and nutriti...</td>\n",
       "      <td>1692595700</td>\n",
       "      <td>False</td>\n",
       "    </tr>\n",
       "    <tr>\n",
       "      <th>1</th>\n",
       "      <td>Nick Rohleder</td>\n",
       "      <td>https://www.google.com/maps/contrib/1158258696...</td>\n",
       "      <td>en</td>\n",
       "      <td>en</td>\n",
       "      <td>https://lh3.googleusercontent.com/a/ACg8ocIhOg...</td>\n",
       "      <td>5</td>\n",
       "      <td>5 months ago</td>\n",
       "      <td>This restaurant is amazing. It's a little expe...</td>\n",
       "      <td>1694724118</td>\n",
       "      <td>False</td>\n",
       "    </tr>\n",
       "    <tr>\n",
       "      <th>2</th>\n",
       "      <td>Erin Burke</td>\n",
       "      <td>https://www.google.com/maps/contrib/1010320170...</td>\n",
       "      <td>en</td>\n",
       "      <td>en</td>\n",
       "      <td>https://lh3.googleusercontent.com/a-/ALV-UjVno...</td>\n",
       "      <td>5</td>\n",
       "      <td>4 months ago</td>\n",
       "      <td>Fresh and delicious! Been here three times so ...</td>\n",
       "      <td>1696956268</td>\n",
       "      <td>False</td>\n",
       "    </tr>\n",
       "    <tr>\n",
       "      <th>3</th>\n",
       "      <td>Hanna Reese</td>\n",
       "      <td>https://www.google.com/maps/contrib/1078811431...</td>\n",
       "      <td>en</td>\n",
       "      <td>en</td>\n",
       "      <td>https://lh3.googleusercontent.com/a-/ALV-UjVYn...</td>\n",
       "      <td>5</td>\n",
       "      <td>a week ago</td>\n",
       "      <td>I normally never write reviews--having been in...</td>\n",
       "      <td>1707259211</td>\n",
       "      <td>False</td>\n",
       "    </tr>\n",
       "    <tr>\n",
       "      <th>4</th>\n",
       "      <td>Green Deathray</td>\n",
       "      <td>https://www.google.com/maps/contrib/1097840934...</td>\n",
       "      <td>en</td>\n",
       "      <td>en</td>\n",
       "      <td>https://lh3.googleusercontent.com/a/ACg8ocJyQh...</td>\n",
       "      <td>5</td>\n",
       "      <td>6 months ago</td>\n",
       "      <td>Lovely downtown restaurant with salads and hea...</td>\n",
       "      <td>1692556100</td>\n",
       "      <td>False</td>\n",
       "    </tr>\n",
       "  </tbody>\n",
       "</table>\n",
       "</div>"
      ],
      "text/plain": [
       "      author_name                                         author_url language  \\\n",
       "0             L G  https://www.google.com/maps/contrib/1149292388...       en   \n",
       "1   Nick Rohleder  https://www.google.com/maps/contrib/1158258696...       en   \n",
       "2      Erin Burke  https://www.google.com/maps/contrib/1010320170...       en   \n",
       "3     Hanna Reese  https://www.google.com/maps/contrib/1078811431...       en   \n",
       "4  Green Deathray  https://www.google.com/maps/contrib/1097840934...       en   \n",
       "\n",
       "  original_language                                  profile_photo_url  \\\n",
       "0                en  https://lh3.googleusercontent.com/a/ACg8ocJekW...   \n",
       "1                en  https://lh3.googleusercontent.com/a/ACg8ocIhOg...   \n",
       "2                en  https://lh3.googleusercontent.com/a-/ALV-UjVno...   \n",
       "3                en  https://lh3.googleusercontent.com/a-/ALV-UjVYn...   \n",
       "4                en  https://lh3.googleusercontent.com/a/ACg8ocJyQh...   \n",
       "\n",
       "   rating relative_time_description  \\\n",
       "0       5              5 months ago   \n",
       "1       5              5 months ago   \n",
       "2       5              4 months ago   \n",
       "3       5                a week ago   \n",
       "4       5              6 months ago   \n",
       "\n",
       "                                                text        time  translated  \n",
       "0  AMAZING! fresh, delicious, filling and nutriti...  1692595700       False  \n",
       "1  This restaurant is amazing. It's a little expe...  1694724118       False  \n",
       "2  Fresh and delicious! Been here three times so ...  1696956268       False  \n",
       "3  I normally never write reviews--having been in...  1707259211       False  \n",
       "4  Lovely downtown restaurant with salads and hea...  1692556100       False  "
      ]
     },
     "execution_count": 20,
     "metadata": {},
     "output_type": "execute_result"
    }
   ],
   "source": [
    "review_dictionary['Basal']"
   ]
  },
  {
   "cell_type": "code",
   "execution_count": 21,
   "metadata": {},
   "outputs": [],
   "source": [
    "# for key in review_dictionary:\n",
    "#     review_dictionary[key].to_csv('Google_Reviews/' + str(key) + '_Google_reviews.csv')"
   ]
  },
  {
   "cell_type": "code",
   "execution_count": 22,
   "metadata": {},
   "outputs": [],
   "source": [
    "# restaurants.to_csv('Google_Missoula_Restaurants.csv')"
   ]
  }
 ],
 "metadata": {
  "kernelspec": {
   "display_name": "Python 3 (ipykernel)",
   "language": "python",
   "name": "python3"
  },
  "language_info": {
   "codemirror_mode": {
    "name": "ipython",
    "version": 3
   },
   "file_extension": ".py",
   "mimetype": "text/x-python",
   "name": "python",
   "nbconvert_exporter": "python",
   "pygments_lexer": "ipython3",
   "version": "3.11.5"
  }
 },
 "nbformat": 4,
 "nbformat_minor": 4
}

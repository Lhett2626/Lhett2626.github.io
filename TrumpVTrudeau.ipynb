{
 "cells": [
  {
   "cell_type": "code",
   "execution_count": 1,
   "metadata": {},
   "outputs": [],
   "source": [
    "import pandas as pd\n",
    "from sklearn.model_selection import train_test_split\n",
    "from sklearn.pipeline import Pipeline\n",
    "from sklearn.feature_extraction.text import CountVectorizer\n",
    "from sklearn.naive_bayes import MultinomialNB\n",
    "from sklearn.metrics import accuracy_score, confusion_matrix"
   ]
  },
  {
   "cell_type": "markdown",
   "metadata": {
    "tags": []
   },
   "source": [
    "# Tweet classification - Trudeau vs Trump"
   ]
  },
  {
   "cell_type": "markdown",
   "metadata": {},
   "source": [
    "**Goal** is to create a model that predicts Donald Trump or Justin Trudeau tweets"
   ]
  },
  {
   "cell_type": "code",
   "execution_count": 2,
   "metadata": {},
   "outputs": [
    {
     "data": {
      "text/html": [
       "<div>\n",
       "<style scoped>\n",
       "    .dataframe tbody tr th:only-of-type {\n",
       "        vertical-align: middle;\n",
       "    }\n",
       "\n",
       "    .dataframe tbody tr th {\n",
       "        vertical-align: top;\n",
       "    }\n",
       "\n",
       "    .dataframe thead th {\n",
       "        text-align: right;\n",
       "    }\n",
       "</style>\n",
       "<table border=\"1\" class=\"dataframe\">\n",
       "  <thead>\n",
       "    <tr style=\"text-align: right;\">\n",
       "      <th></th>\n",
       "      <th>timestamp</th>\n",
       "      <th>text</th>\n",
       "      <th>user</th>\n",
       "    </tr>\n",
       "  </thead>\n",
       "  <tbody>\n",
       "    <tr>\n",
       "      <th>0</th>\n",
       "      <td>2020-03-02 23:06:03</td>\n",
       "      <td>WOW! Thank you, just landed, see everyone soon...</td>\n",
       "      <td>realDonaldTrump</td>\n",
       "    </tr>\n",
       "    <tr>\n",
       "      <th>1</th>\n",
       "      <td>2020-03-02 21:47:49</td>\n",
       "      <td>Departing for the Great State of North Carolin...</td>\n",
       "      <td>realDonaldTrump</td>\n",
       "    </tr>\n",
       "    <tr>\n",
       "      <th>2</th>\n",
       "      <td>2020-03-02 21:32:54</td>\n",
       "      <td>They are staging a coup against Bernie!</td>\n",
       "      <td>realDonaldTrump</td>\n",
       "    </tr>\n",
       "    <tr>\n",
       "      <th>3</th>\n",
       "      <td>2020-03-02 19:55:40</td>\n",
       "      <td>THANK YOU!https://www.breitbart.com/tech/2020/...</td>\n",
       "      <td>realDonaldTrump</td>\n",
       "    </tr>\n",
       "    <tr>\n",
       "      <th>4</th>\n",
       "      <td>2020-03-02 19:55:07</td>\n",
       "      <td>Michelle @FischbachMN7 is running for Congress...</td>\n",
       "      <td>realDonaldTrump</td>\n",
       "    </tr>\n",
       "  </tbody>\n",
       "</table>\n",
       "</div>"
      ],
      "text/plain": [
       "             timestamp                                               text  \\\n",
       "0  2020-03-02 23:06:03  WOW! Thank you, just landed, see everyone soon...   \n",
       "1  2020-03-02 21:47:49  Departing for the Great State of North Carolin...   \n",
       "2  2020-03-02 21:32:54            They are staging a coup against Bernie!   \n",
       "3  2020-03-02 19:55:40  THANK YOU!https://www.breitbart.com/tech/2020/...   \n",
       "4  2020-03-02 19:55:07  Michelle @FischbachMN7 is running for Congress...   \n",
       "\n",
       "              user  \n",
       "0  realDonaldTrump  \n",
       "1  realDonaldTrump  \n",
       "2  realDonaldTrump  \n",
       "3  realDonaldTrump  \n",
       "4  realDonaldTrump  "
      ]
     },
     "execution_count": 2,
     "metadata": {},
     "output_type": "execute_result"
    }
   ],
   "source": [
    "# load the data\n",
    "path = '/Users/liamhettinger/Documents/Portfolio_work/Data/twitter.csv'\n",
    "data = pd.read_csv(path)\n",
    "data.head()"
   ]
  },
  {
   "cell_type": "code",
   "execution_count": 3,
   "metadata": {},
   "outputs": [],
   "source": [
    "#cleaning text lowercase all text data\n",
    "for text in data.text:\n",
    "    text = text.lower()"
   ]
  },
  {
   "cell_type": "code",
   "execution_count": 4,
   "metadata": {},
   "outputs": [],
   "source": [
    "#defining X and Y\n",
    "y= data.user\n",
    "X= data.text"
   ]
  },
  {
   "cell_type": "code",
   "execution_count": 5,
   "metadata": {},
   "outputs": [],
   "source": [
    "#train test split\n",
    "X_train, X_test, y_train, y_test = train_test_split(X,y)"
   ]
  },
  {
   "cell_type": "markdown",
   "metadata": {},
   "source": [
    "**CountVectorizer** turns words into a count matrix. \n",
    "- ngrams means x words are grouped and counted.\n",
    "- max_features defines how many features go into the matrix"
   ]
  },
  {
   "cell_type": "code",
   "execution_count": 6,
   "metadata": {},
   "outputs": [],
   "source": [
    "#creating pipeline\n",
    "pipe = Pipeline(steps=[\n",
    "    ('vect', CountVectorizer(max_features=5000,ngram_range=(1,2))), \n",
    "    ('clf', MultinomialNB()) #naive bayes formula\n",
    "])"
   ]
  },
  {
   "cell_type": "code",
   "execution_count": 7,
   "metadata": {},
   "outputs": [
    {
     "data": {
      "text/html": [
       "<style>#sk-container-id-1 {color: black;}#sk-container-id-1 pre{padding: 0;}#sk-container-id-1 div.sk-toggleable {background-color: white;}#sk-container-id-1 label.sk-toggleable__label {cursor: pointer;display: block;width: 100%;margin-bottom: 0;padding: 0.3em;box-sizing: border-box;text-align: center;}#sk-container-id-1 label.sk-toggleable__label-arrow:before {content: \"▸\";float: left;margin-right: 0.25em;color: #696969;}#sk-container-id-1 label.sk-toggleable__label-arrow:hover:before {color: black;}#sk-container-id-1 div.sk-estimator:hover label.sk-toggleable__label-arrow:before {color: black;}#sk-container-id-1 div.sk-toggleable__content {max-height: 0;max-width: 0;overflow: hidden;text-align: left;background-color: #f0f8ff;}#sk-container-id-1 div.sk-toggleable__content pre {margin: 0.2em;color: black;border-radius: 0.25em;background-color: #f0f8ff;}#sk-container-id-1 input.sk-toggleable__control:checked~div.sk-toggleable__content {max-height: 200px;max-width: 100%;overflow: auto;}#sk-container-id-1 input.sk-toggleable__control:checked~label.sk-toggleable__label-arrow:before {content: \"▾\";}#sk-container-id-1 div.sk-estimator input.sk-toggleable__control:checked~label.sk-toggleable__label {background-color: #d4ebff;}#sk-container-id-1 div.sk-label input.sk-toggleable__control:checked~label.sk-toggleable__label {background-color: #d4ebff;}#sk-container-id-1 input.sk-hidden--visually {border: 0;clip: rect(1px 1px 1px 1px);clip: rect(1px, 1px, 1px, 1px);height: 1px;margin: -1px;overflow: hidden;padding: 0;position: absolute;width: 1px;}#sk-container-id-1 div.sk-estimator {font-family: monospace;background-color: #f0f8ff;border: 1px dotted black;border-radius: 0.25em;box-sizing: border-box;margin-bottom: 0.5em;}#sk-container-id-1 div.sk-estimator:hover {background-color: #d4ebff;}#sk-container-id-1 div.sk-parallel-item::after {content: \"\";width: 100%;border-bottom: 1px solid gray;flex-grow: 1;}#sk-container-id-1 div.sk-label:hover label.sk-toggleable__label {background-color: #d4ebff;}#sk-container-id-1 div.sk-serial::before {content: \"\";position: absolute;border-left: 1px solid gray;box-sizing: border-box;top: 0;bottom: 0;left: 50%;z-index: 0;}#sk-container-id-1 div.sk-serial {display: flex;flex-direction: column;align-items: center;background-color: white;padding-right: 0.2em;padding-left: 0.2em;position: relative;}#sk-container-id-1 div.sk-item {position: relative;z-index: 1;}#sk-container-id-1 div.sk-parallel {display: flex;align-items: stretch;justify-content: center;background-color: white;position: relative;}#sk-container-id-1 div.sk-item::before, #sk-container-id-1 div.sk-parallel-item::before {content: \"\";position: absolute;border-left: 1px solid gray;box-sizing: border-box;top: 0;bottom: 0;left: 50%;z-index: -1;}#sk-container-id-1 div.sk-parallel-item {display: flex;flex-direction: column;z-index: 1;position: relative;background-color: white;}#sk-container-id-1 div.sk-parallel-item:first-child::after {align-self: flex-end;width: 50%;}#sk-container-id-1 div.sk-parallel-item:last-child::after {align-self: flex-start;width: 50%;}#sk-container-id-1 div.sk-parallel-item:only-child::after {width: 0;}#sk-container-id-1 div.sk-dashed-wrapped {border: 1px dashed gray;margin: 0 0.4em 0.5em 0.4em;box-sizing: border-box;padding-bottom: 0.4em;background-color: white;}#sk-container-id-1 div.sk-label label {font-family: monospace;font-weight: bold;display: inline-block;line-height: 1.2em;}#sk-container-id-1 div.sk-label-container {text-align: center;}#sk-container-id-1 div.sk-container {/* jupyter's `normalize.less` sets `[hidden] { display: none; }` but bootstrap.min.css set `[hidden] { display: none !important; }` so we also need the `!important` here to be able to override the default hidden behavior on the sphinx rendered scikit-learn.org. See: https://github.com/scikit-learn/scikit-learn/issues/21755 */display: inline-block !important;position: relative;}#sk-container-id-1 div.sk-text-repr-fallback {display: none;}</style><div id=\"sk-container-id-1\" class=\"sk-top-container\"><div class=\"sk-text-repr-fallback\"><pre>Pipeline(steps=[(&#x27;vect&#x27;,\n",
       "                 CountVectorizer(max_features=5000, ngram_range=(1, 2))),\n",
       "                (&#x27;clf&#x27;, MultinomialNB())])</pre><b>In a Jupyter environment, please rerun this cell to show the HTML representation or trust the notebook. <br />On GitHub, the HTML representation is unable to render, please try loading this page with nbviewer.org.</b></div><div class=\"sk-container\" hidden><div class=\"sk-item sk-dashed-wrapped\"><div class=\"sk-label-container\"><div class=\"sk-label sk-toggleable\"><input class=\"sk-toggleable__control sk-hidden--visually\" id=\"sk-estimator-id-1\" type=\"checkbox\" ><label for=\"sk-estimator-id-1\" class=\"sk-toggleable__label sk-toggleable__label-arrow\">Pipeline</label><div class=\"sk-toggleable__content\"><pre>Pipeline(steps=[(&#x27;vect&#x27;,\n",
       "                 CountVectorizer(max_features=5000, ngram_range=(1, 2))),\n",
       "                (&#x27;clf&#x27;, MultinomialNB())])</pre></div></div></div><div class=\"sk-serial\"><div class=\"sk-item\"><div class=\"sk-estimator sk-toggleable\"><input class=\"sk-toggleable__control sk-hidden--visually\" id=\"sk-estimator-id-2\" type=\"checkbox\" ><label for=\"sk-estimator-id-2\" class=\"sk-toggleable__label sk-toggleable__label-arrow\">CountVectorizer</label><div class=\"sk-toggleable__content\"><pre>CountVectorizer(max_features=5000, ngram_range=(1, 2))</pre></div></div></div><div class=\"sk-item\"><div class=\"sk-estimator sk-toggleable\"><input class=\"sk-toggleable__control sk-hidden--visually\" id=\"sk-estimator-id-3\" type=\"checkbox\" ><label for=\"sk-estimator-id-3\" class=\"sk-toggleable__label sk-toggleable__label-arrow\">MultinomialNB</label><div class=\"sk-toggleable__content\"><pre>MultinomialNB()</pre></div></div></div></div></div></div></div>"
      ],
      "text/plain": [
       "Pipeline(steps=[('vect',\n",
       "                 CountVectorizer(max_features=5000, ngram_range=(1, 2))),\n",
       "                ('clf', MultinomialNB())])"
      ]
     },
     "execution_count": 7,
     "metadata": {},
     "output_type": "execute_result"
    }
   ],
   "source": [
    "#fitting pipeline\n",
    "pipe.fit(X_train,y_train)"
   ]
  },
  {
   "cell_type": "code",
   "execution_count": 8,
   "metadata": {},
   "outputs": [],
   "source": [
    "#predicting y_test\n",
    "y_test_pred = pipe.predict(X_test)"
   ]
  },
  {
   "cell_type": "code",
   "execution_count": 9,
   "metadata": {},
   "outputs": [
    {
     "data": {
      "text/plain": [
       "0.9660377358490566"
      ]
     },
     "execution_count": 9,
     "metadata": {},
     "output_type": "execute_result"
    }
   ],
   "source": [
    "#model's accuracy score\n",
    "accuracy_score(y_test,y_test_pred)"
   ]
  },
  {
   "cell_type": "code",
   "execution_count": 10,
   "metadata": {},
   "outputs": [
    {
     "data": {
      "text/plain": [
       "array([[ 99,   4],\n",
       "       [  5, 157]])"
      ]
     },
     "execution_count": 10,
     "metadata": {},
     "output_type": "execute_result"
    }
   ],
   "source": [
    "#models confusion matrix\n",
    "confusion_matrix(y_test,y_test_pred)"
   ]
  },
  {
   "cell_type": "code",
   "execution_count": 11,
   "metadata": {},
   "outputs": [
    {
     "data": {
      "text/plain": [
       "array(['JustinTrudeau', 'realDonaldTrump'], dtype='<U15')"
      ]
     },
     "execution_count": 11,
     "metadata": {},
     "output_type": "execute_result"
    }
   ],
   "source": [
    "#X variables after count vectorizer\n",
    "features = pipe['vect'].get_feature_names_out()\n",
    "\n",
    "#target variables\n",
    "pipe['clf'].classes_"
   ]
  },
  {
   "cell_type": "code",
   "execution_count": 12,
   "metadata": {},
   "outputs": [
    {
     "data": {
      "text/html": [
       "<div>\n",
       "<style scoped>\n",
       "    .dataframe tbody tr th:only-of-type {\n",
       "        vertical-align: middle;\n",
       "    }\n",
       "\n",
       "    .dataframe tbody tr th {\n",
       "        vertical-align: top;\n",
       "    }\n",
       "\n",
       "    .dataframe thead th {\n",
       "        text-align: right;\n",
       "    }\n",
       "</style>\n",
       "<table border=\"1\" class=\"dataframe\">\n",
       "  <thead>\n",
       "    <tr style=\"text-align: right;\">\n",
       "      <th></th>\n",
       "      <th>JustinTrudeau</th>\n",
       "      <th>DonaldTrump</th>\n",
       "    </tr>\n",
       "    <tr>\n",
       "      <th>feature</th>\n",
       "      <th></th>\n",
       "      <th></th>\n",
       "    </tr>\n",
       "  </thead>\n",
       "  <tbody>\n",
       "    <tr>\n",
       "      <th>00</th>\n",
       "      <td>0.0</td>\n",
       "      <td>13.0</td>\n",
       "    </tr>\n",
       "    <tr>\n",
       "      <th>00 eastern</th>\n",
       "      <td>0.0</td>\n",
       "      <td>8.0</td>\n",
       "    </tr>\n",
       "    <tr>\n",
       "      <th>00 the</th>\n",
       "      <td>0.0</td>\n",
       "      <td>2.0</td>\n",
       "    </tr>\n",
       "    <tr>\n",
       "      <th>000</th>\n",
       "      <td>12.0</td>\n",
       "      <td>11.0</td>\n",
       "    </tr>\n",
       "    <tr>\n",
       "      <th>000 americans</th>\n",
       "      <td>0.0</td>\n",
       "      <td>2.0</td>\n",
       "    </tr>\n",
       "  </tbody>\n",
       "</table>\n",
       "</div>"
      ],
      "text/plain": [
       "               JustinTrudeau  DonaldTrump\n",
       "feature                                  \n",
       "00                       0.0         13.0\n",
       "00 eastern               0.0          8.0\n",
       "00 the                   0.0          2.0\n",
       "000                     12.0         11.0\n",
       "000 americans            0.0          2.0"
      ]
     },
     "execution_count": 12,
     "metadata": {},
     "output_type": "execute_result"
    }
   ],
   "source": [
    "#influential features/words in model\n",
    "JustinTrudeau = pipe['clf'].feature_count_[0,:]\n",
    "realDonaldTrump = pipe['clf'].feature_count_[1,:]\n",
    "tweets = pd.DataFrame({'feature':features, 'JustinTrudeau':JustinTrudeau, 'DonaldTrump':realDonaldTrump}).set_index('feature')\n",
    "tweets.head()"
   ]
  },
  {
   "cell_type": "code",
   "execution_count": 13,
   "metadata": {},
   "outputs": [],
   "source": [
    "# words that indicate trump or trudeau tweet.\n",
    "tweets.DonaldTrump = tweets.DonaldTrump+1\n",
    "tweets.JustinTrudeau = tweets.JustinTrudeau+1\n",
    "tweets.DonaldTrump = tweets.DonaldTrump/tweets.DonaldTrump.sum()\n",
    "tweets.JustinTrudeau = tweets.JustinTrudeau/tweets.JustinTrudeau.sum()\n",
    "tweets['TrumpVsTrudeau'] = tweets.DonaldTrump/tweets.JustinTrudeau\n",
    "tweets['TrudeauVsTrump'] = tweets.JustinTrudeau/tweets.DonaldTrump"
   ]
  },
  {
   "cell_type": "code",
   "execution_count": 14,
   "metadata": {},
   "outputs": [
    {
     "data": {
      "text/html": [
       "<div>\n",
       "<style scoped>\n",
       "    .dataframe tbody tr th:only-of-type {\n",
       "        vertical-align: middle;\n",
       "    }\n",
       "\n",
       "    .dataframe tbody tr th {\n",
       "        vertical-align: top;\n",
       "    }\n",
       "\n",
       "    .dataframe thead th {\n",
       "        text-align: right;\n",
       "    }\n",
       "</style>\n",
       "<table border=\"1\" class=\"dataframe\">\n",
       "  <thead>\n",
       "    <tr style=\"text-align: right;\">\n",
       "      <th></th>\n",
       "      <th>JustinTrudeau</th>\n",
       "      <th>DonaldTrump</th>\n",
       "      <th>TrumpVsTrudeau</th>\n",
       "      <th>TrudeauVsTrump</th>\n",
       "    </tr>\n",
       "    <tr>\n",
       "      <th>feature</th>\n",
       "      <th></th>\n",
       "      <th></th>\n",
       "      <th></th>\n",
       "      <th></th>\n",
       "    </tr>\n",
       "  </thead>\n",
       "  <tbody>\n",
       "    <tr>\n",
       "      <th>ca</th>\n",
       "      <td>0.003534</td>\n",
       "      <td>0.000042</td>\n",
       "      <td>0.011770</td>\n",
       "      <td>84.964430</td>\n",
       "    </tr>\n",
       "    <tr>\n",
       "      <th>en</th>\n",
       "      <td>0.003340</td>\n",
       "      <td>0.000042</td>\n",
       "      <td>0.012454</td>\n",
       "      <td>80.296055</td>\n",
       "    </tr>\n",
       "    <tr>\n",
       "      <th>pm</th>\n",
       "      <td>0.003340</td>\n",
       "      <td>0.000042</td>\n",
       "      <td>0.012454</td>\n",
       "      <td>80.296055</td>\n",
       "    </tr>\n",
       "    <tr>\n",
       "      <th>ca en</th>\n",
       "      <td>0.003340</td>\n",
       "      <td>0.000042</td>\n",
       "      <td>0.012454</td>\n",
       "      <td>80.296055</td>\n",
       "    </tr>\n",
       "    <tr>\n",
       "      <th>ll</th>\n",
       "      <td>0.002213</td>\n",
       "      <td>0.000042</td>\n",
       "      <td>0.018790</td>\n",
       "      <td>53.219478</td>\n",
       "    </tr>\n",
       "    <tr>\n",
       "      <th>gc ca</th>\n",
       "      <td>0.002213</td>\n",
       "      <td>0.000042</td>\n",
       "      <td>0.018790</td>\n",
       "      <td>53.219478</td>\n",
       "    </tr>\n",
       "    <tr>\n",
       "      <th>gc</th>\n",
       "      <td>0.002213</td>\n",
       "      <td>0.000042</td>\n",
       "      <td>0.018790</td>\n",
       "      <td>53.219478</td>\n",
       "    </tr>\n",
       "    <tr>\n",
       "      <th>pm gc</th>\n",
       "      <td>0.002175</td>\n",
       "      <td>0.000042</td>\n",
       "      <td>0.019126</td>\n",
       "      <td>52.285803</td>\n",
       "    </tr>\n",
       "    <tr>\n",
       "      <th>en news</th>\n",
       "      <td>0.002175</td>\n",
       "      <td>0.000042</td>\n",
       "      <td>0.019126</td>\n",
       "      <td>52.285803</td>\n",
       "    </tr>\n",
       "    <tr>\n",
       "      <th>https pm</th>\n",
       "      <td>0.002097</td>\n",
       "      <td>0.000042</td>\n",
       "      <td>0.019834</td>\n",
       "      <td>50.418453</td>\n",
       "    </tr>\n",
       "  </tbody>\n",
       "</table>\n",
       "</div>"
      ],
      "text/plain": [
       "          JustinTrudeau  DonaldTrump  TrumpVsTrudeau  TrudeauVsTrump\n",
       "feature                                                             \n",
       "ca             0.003534     0.000042        0.011770       84.964430\n",
       "en             0.003340     0.000042        0.012454       80.296055\n",
       "pm             0.003340     0.000042        0.012454       80.296055\n",
       "ca en          0.003340     0.000042        0.012454       80.296055\n",
       "ll             0.002213     0.000042        0.018790       53.219478\n",
       "gc ca          0.002213     0.000042        0.018790       53.219478\n",
       "gc             0.002213     0.000042        0.018790       53.219478\n",
       "pm gc          0.002175     0.000042        0.019126       52.285803\n",
       "en news        0.002175     0.000042        0.019126       52.285803\n",
       "https pm       0.002097     0.000042        0.019834       50.418453"
      ]
     },
     "execution_count": 14,
     "metadata": {},
     "output_type": "execute_result"
    }
   ],
   "source": [
    "#Trudeau common words\n",
    "tweets.sort_values(by='TrudeauVsTrump', ascending=False).head(10)"
   ]
  },
  {
   "cell_type": "code",
   "execution_count": 15,
   "metadata": {},
   "outputs": [
    {
     "data": {
      "text/html": [
       "<div>\n",
       "<style scoped>\n",
       "    .dataframe tbody tr th:only-of-type {\n",
       "        vertical-align: middle;\n",
       "    }\n",
       "\n",
       "    .dataframe tbody tr th {\n",
       "        vertical-align: top;\n",
       "    }\n",
       "\n",
       "    .dataframe thead th {\n",
       "        text-align: right;\n",
       "    }\n",
       "</style>\n",
       "<table border=\"1\" class=\"dataframe\">\n",
       "  <thead>\n",
       "    <tr style=\"text-align: right;\">\n",
       "      <th></th>\n",
       "      <th>JustinTrudeau</th>\n",
       "      <th>DonaldTrump</th>\n",
       "      <th>TrumpVsTrudeau</th>\n",
       "      <th>TrudeauVsTrump</th>\n",
       "    </tr>\n",
       "    <tr>\n",
       "      <th>feature</th>\n",
       "      <th></th>\n",
       "      <th></th>\n",
       "      <th></th>\n",
       "      <th></th>\n",
       "    </tr>\n",
       "  </thead>\n",
       "  <tbody>\n",
       "    <tr>\n",
       "      <th>fake news</th>\n",
       "      <td>0.000039</td>\n",
       "      <td>0.002038</td>\n",
       "      <td>52.480785</td>\n",
       "      <td>0.019055</td>\n",
       "    </tr>\n",
       "    <tr>\n",
       "      <th>white house</th>\n",
       "      <td>0.000039</td>\n",
       "      <td>0.001248</td>\n",
       "      <td>32.131093</td>\n",
       "      <td>0.031123</td>\n",
       "    </tr>\n",
       "    <tr>\n",
       "      <th>white</th>\n",
       "      <td>0.000039</td>\n",
       "      <td>0.001248</td>\n",
       "      <td>32.131093</td>\n",
       "      <td>0.031123</td>\n",
       "    </tr>\n",
       "    <tr>\n",
       "      <th>fake</th>\n",
       "      <td>0.000078</td>\n",
       "      <td>0.002371</td>\n",
       "      <td>30.524538</td>\n",
       "      <td>0.032761</td>\n",
       "    </tr>\n",
       "    <tr>\n",
       "      <th>media</th>\n",
       "      <td>0.000039</td>\n",
       "      <td>0.001123</td>\n",
       "      <td>28.917984</td>\n",
       "      <td>0.034581</td>\n",
       "    </tr>\n",
       "    <tr>\n",
       "      <th>conference</th>\n",
       "      <td>0.000039</td>\n",
       "      <td>0.001123</td>\n",
       "      <td>28.917984</td>\n",
       "      <td>0.034581</td>\n",
       "    </tr>\n",
       "    <tr>\n",
       "      <th>it is</th>\n",
       "      <td>0.000039</td>\n",
       "      <td>0.001040</td>\n",
       "      <td>26.775911</td>\n",
       "      <td>0.037347</td>\n",
       "    </tr>\n",
       "    <tr>\n",
       "      <th>the fake</th>\n",
       "      <td>0.000039</td>\n",
       "      <td>0.000957</td>\n",
       "      <td>24.633838</td>\n",
       "      <td>0.040595</td>\n",
       "    </tr>\n",
       "    <tr>\n",
       "      <th>democrats</th>\n",
       "      <td>0.000039</td>\n",
       "      <td>0.000957</td>\n",
       "      <td>24.633838</td>\n",
       "      <td>0.040595</td>\n",
       "    </tr>\n",
       "    <tr>\n",
       "      <th>joe</th>\n",
       "      <td>0.000039</td>\n",
       "      <td>0.000915</td>\n",
       "      <td>23.562802</td>\n",
       "      <td>0.042440</td>\n",
       "    </tr>\n",
       "  </tbody>\n",
       "</table>\n",
       "</div>"
      ],
      "text/plain": [
       "             JustinTrudeau  DonaldTrump  TrumpVsTrudeau  TrudeauVsTrump\n",
       "feature                                                                \n",
       "fake news         0.000039     0.002038       52.480785        0.019055\n",
       "white house       0.000039     0.001248       32.131093        0.031123\n",
       "white             0.000039     0.001248       32.131093        0.031123\n",
       "fake              0.000078     0.002371       30.524538        0.032761\n",
       "media             0.000039     0.001123       28.917984        0.034581\n",
       "conference        0.000039     0.001123       28.917984        0.034581\n",
       "it is             0.000039     0.001040       26.775911        0.037347\n",
       "the fake          0.000039     0.000957       24.633838        0.040595\n",
       "democrats         0.000039     0.000957       24.633838        0.040595\n",
       "joe               0.000039     0.000915       23.562802        0.042440"
      ]
     },
     "execution_count": 15,
     "metadata": {},
     "output_type": "execute_result"
    }
   ],
   "source": [
    "#Trump common word\n",
    "tweets.sort_values(by='TrumpVsTrudeau', ascending=False).head(10)"
   ]
  }
 ],
 "metadata": {
  "kernelspec": {
   "display_name": "Python 3 (ipykernel)",
   "language": "python",
   "name": "python3"
  },
  "language_info": {
   "codemirror_mode": {
    "name": "ipython",
    "version": 3
   },
   "file_extension": ".py",
   "mimetype": "text/x-python",
   "name": "python",
   "nbconvert_exporter": "python",
   "pygments_lexer": "ipython3",
   "version": "3.11.5"
  }
 },
 "nbformat": 4,
 "nbformat_minor": 4
}

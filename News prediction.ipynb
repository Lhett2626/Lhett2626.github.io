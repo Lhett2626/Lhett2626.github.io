{
 "cells": [
  {
   "cell_type": "markdown",
   "metadata": {
    "tags": []
   },
   "source": [
    "# News prediction\n",
    "\n",
    "20 News Groups dataset from scitkit learn. It is a dataset commonly used for classification problems. The link to this dateset can be found here: [20 News Groups](https://scikit-learn.org/stable/modules/generated/sklearn.datasets.fetch_20newsgroups.html)\n",
    "\n",
    "This project demonstrates my ability to use a Naive Bayes model to classify text. The inputs for this model are news articles. The goal is to create a model that accurately classifies news articles into the 6 below categories.\n",
    "\n",
    "\n"
   ]
  },
  {
   "cell_type": "code",
   "execution_count": 1,
   "metadata": {},
   "outputs": [
    {
     "name": "stderr",
     "output_type": "stream",
     "text": [
      "[nltk_data] Downloading package wordnet to\n",
      "[nltk_data]     /Users/liamhettinger/nltk_data...\n",
      "[nltk_data]   Package wordnet is already up-to-date!\n",
      "[nltk_data] Downloading package stopwords to\n",
      "[nltk_data]     /Users/liamhettinger/nltk_data...\n",
      "[nltk_data]   Package stopwords is already up-to-date!\n",
      "[nltk_data] Downloading package punkt to\n",
      "[nltk_data]     /Users/liamhettinger/nltk_data...\n",
      "[nltk_data]   Package punkt is already up-to-date!\n",
      "[nltk_data] Downloading package averaged_perceptron_tagger to\n",
      "[nltk_data]     /Users/liamhettinger/nltk_data...\n",
      "[nltk_data]   Package averaged_perceptron_tagger is already up-to-\n",
      "[nltk_data]       date!\n",
      "[nltk_data] Downloading package words to\n",
      "[nltk_data]     /Users/liamhettinger/nltk_data...\n",
      "[nltk_data]   Package words is already up-to-date!\n"
     ]
    }
   ],
   "source": [
    "#Import Libraries\n",
    "import pandas as pd\n",
    "from sklearn.datasets import fetch_20newsgroups\n",
    "from sklearn.pipeline import Pipeline\n",
    "from sklearn.feature_extraction.text import TfidfVectorizer\n",
    "from sklearn.naive_bayes import MultinomialNB\n",
    "from sklearn.metrics import accuracy_score, confusion_matrix\n",
    "from sklearn.model_selection import GridSearchCV\n",
    "import string\n",
    "import re\n",
    "import nltk\n",
    "nltk.download('wordnet') # \n",
    "nltk.download('stopwords')\n",
    "nltk.download('punkt')\n",
    "nltk.download('averaged_perceptron_tagger')\n",
    "nltk.download('words')\n",
    "from nltk.tokenize import word_tokenize\n",
    "from nltk.stem import PorterStemmer\n",
    "from nltk.corpus import stopwords\n",
    "from nltk.stem import WordNetLemmatizer\n",
    "from nltk.corpus import wordnet"
   ]
  },
  {
   "cell_type": "code",
   "execution_count": 2,
   "metadata": {},
   "outputs": [],
   "source": [
    "#Finding a subset of categories. Only a subset of the 20 News group categories were used to improve training time.\n",
    "\n",
    "categories = [\n",
    "    'alt.atheism',\n",
    "    'comp.windows.x',\n",
    "    'rec.autos',\n",
    "    'rec.sport.baseball',\n",
    "    'sci.electronics',\n",
    "    'sci.space',\n",
    "]\n",
    "\n",
    "#Importing training and testing data.\n",
    "\n",
    "train = fetch_20newsgroups(subset='train', \n",
    "                                categories=categories,\n",
    "                                remove=('headers', 'footers', 'quotes')\n",
    "                          )\n",
    "\n",
    "test = fetch_20newsgroups(subset='test', \n",
    "                                categories=categories,\n",
    "                                remove=('headers', 'footers', 'quotes')\n",
    "                          )"
   ]
  },
  {
   "cell_type": "markdown",
   "metadata": {
    "tags": []
   },
   "source": [
    "### Data Exploration"
   ]
  },
  {
   "cell_type": "code",
   "execution_count": 3,
   "metadata": {},
   "outputs": [
    {
     "data": {
      "text/html": [
       "<div>\n",
       "<style scoped>\n",
       "    .dataframe tbody tr th:only-of-type {\n",
       "        vertical-align: middle;\n",
       "    }\n",
       "\n",
       "    .dataframe tbody tr th {\n",
       "        vertical-align: top;\n",
       "    }\n",
       "\n",
       "    .dataframe thead th {\n",
       "        text-align: right;\n",
       "    }\n",
       "</style>\n",
       "<table border=\"1\" class=\"dataframe\">\n",
       "  <thead>\n",
       "    <tr style=\"text-align: right;\">\n",
       "      <th></th>\n",
       "      <th>text</th>\n",
       "      <th>category</th>\n",
       "    </tr>\n",
       "  </thead>\n",
       "  <tbody>\n",
       "    <tr>\n",
       "      <th>0</th>\n",
       "      <td>Benedikt Rosenau writes, with great authority:...</td>\n",
       "      <td>0</td>\n",
       "    </tr>\n",
       "    <tr>\n",
       "      <th>1</th>\n",
       "      <td>\\nI don't understand this last statement about...</td>\n",
       "      <td>2</td>\n",
       "    </tr>\n",
       "    <tr>\n",
       "      <th>2</th>\n",
       "      <td>I'd like to compile X11r5 on a Sony NWS-1750 r...</td>\n",
       "      <td>1</td>\n",
       "    </tr>\n",
       "    <tr>\n",
       "      <th>3</th>\n",
       "      <td>\\n\\n\\nHow do you know it's based on ignorance,...</td>\n",
       "      <td>0</td>\n",
       "    </tr>\n",
       "    <tr>\n",
       "      <th>4</th>\n",
       "      <td>\\nmuch crap deleted\\n\\n\\nDEAD WRONG!  Last tim...</td>\n",
       "      <td>3</td>\n",
       "    </tr>\n",
       "  </tbody>\n",
       "</table>\n",
       "</div>"
      ],
      "text/plain": [
       "                                                text  category\n",
       "0  Benedikt Rosenau writes, with great authority:...         0\n",
       "1  \\nI don't understand this last statement about...         2\n",
       "2  I'd like to compile X11r5 on a Sony NWS-1750 r...         1\n",
       "3  \\n\\n\\nHow do you know it's based on ignorance,...         0\n",
       "4  \\nmuch crap deleted\\n\\n\\nDEAD WRONG!  Last tim...         3"
      ]
     },
     "execution_count": 3,
     "metadata": {},
     "output_type": "execute_result"
    }
   ],
   "source": [
    "#Exploring Training dataset\n",
    "train_data = pd.DataFrame({'text' : train['data'], \n",
    "                           'category' : train['target']})\n",
    "train_data.head()"
   ]
  },
  {
   "cell_type": "code",
   "execution_count": 4,
   "metadata": {},
   "outputs": [
    {
     "data": {
      "text/html": [
       "<div>\n",
       "<style scoped>\n",
       "    .dataframe tbody tr th:only-of-type {\n",
       "        vertical-align: middle;\n",
       "    }\n",
       "\n",
       "    .dataframe tbody tr th {\n",
       "        vertical-align: top;\n",
       "    }\n",
       "\n",
       "    .dataframe thead th {\n",
       "        text-align: right;\n",
       "    }\n",
       "</style>\n",
       "<table border=\"1\" class=\"dataframe\">\n",
       "  <thead>\n",
       "    <tr style=\"text-align: right;\">\n",
       "      <th></th>\n",
       "      <th>text</th>\n",
       "      <th>category</th>\n",
       "    </tr>\n",
       "  </thead>\n",
       "  <tbody>\n",
       "    <tr>\n",
       "      <th>0</th>\n",
       "      <td>I can see it now emblazened across the evening...</td>\n",
       "      <td>5</td>\n",
       "    </tr>\n",
       "    <tr>\n",
       "      <th>1</th>\n",
       "      <td>The color of the board shows the composition o...</td>\n",
       "      <td>4</td>\n",
       "    </tr>\n",
       "    <tr>\n",
       "      <th>2</th>\n",
       "      <td>Regarding the feasability of retrieving the HS...</td>\n",
       "      <td>5</td>\n",
       "    </tr>\n",
       "    <tr>\n",
       "      <th>3</th>\n",
       "      <td>\\nI believe Acker got a ring from his wife whe...</td>\n",
       "      <td>3</td>\n",
       "    </tr>\n",
       "    <tr>\n",
       "      <th>4</th>\n",
       "      <td>\\n\\nThe new Cruisers DO NOT have independent s...</td>\n",
       "      <td>2</td>\n",
       "    </tr>\n",
       "  </tbody>\n",
       "</table>\n",
       "</div>"
      ],
      "text/plain": [
       "                                                text  category\n",
       "0  I can see it now emblazened across the evening...         5\n",
       "1  The color of the board shows the composition o...         4\n",
       "2  Regarding the feasability of retrieving the HS...         5\n",
       "3  \\nI believe Acker got a ring from his wife whe...         3\n",
       "4  \\n\\nThe new Cruisers DO NOT have independent s...         2"
      ]
     },
     "execution_count": 4,
     "metadata": {},
     "output_type": "execute_result"
    }
   ],
   "source": [
    "#Exploring Testing dataset\n",
    "test_data = pd.DataFrame({'text' : test['data'], \n",
    "                           'category' : test['target']})\n",
    "test_data.head()"
   ]
  },
  {
   "cell_type": "code",
   "execution_count": 5,
   "metadata": {},
   "outputs": [
    {
     "data": {
      "text/html": [
       "<div>\n",
       "<style scoped>\n",
       "    .dataframe tbody tr th:only-of-type {\n",
       "        vertical-align: middle;\n",
       "    }\n",
       "\n",
       "    .dataframe tbody tr th {\n",
       "        vertical-align: top;\n",
       "    }\n",
       "\n",
       "    .dataframe thead th {\n",
       "        text-align: right;\n",
       "    }\n",
       "</style>\n",
       "<table border=\"1\" class=\"dataframe\">\n",
       "  <thead>\n",
       "    <tr style=\"text-align: right;\">\n",
       "      <th></th>\n",
       "      <th>Category names</th>\n",
       "      <th>Category Numbers</th>\n",
       "    </tr>\n",
       "  </thead>\n",
       "  <tbody>\n",
       "    <tr>\n",
       "      <th>0</th>\n",
       "      <td>alt.atheism</td>\n",
       "      <td>0</td>\n",
       "    </tr>\n",
       "    <tr>\n",
       "      <th>1</th>\n",
       "      <td>comp.windows.x</td>\n",
       "      <td>1</td>\n",
       "    </tr>\n",
       "    <tr>\n",
       "      <th>2</th>\n",
       "      <td>rec.autos</td>\n",
       "      <td>2</td>\n",
       "    </tr>\n",
       "    <tr>\n",
       "      <th>3</th>\n",
       "      <td>rec.sport.baseball</td>\n",
       "      <td>3</td>\n",
       "    </tr>\n",
       "    <tr>\n",
       "      <th>4</th>\n",
       "      <td>sci.electronics</td>\n",
       "      <td>4</td>\n",
       "    </tr>\n",
       "    <tr>\n",
       "      <th>5</th>\n",
       "      <td>sci.space</td>\n",
       "      <td>5</td>\n",
       "    </tr>\n",
       "  </tbody>\n",
       "</table>\n",
       "</div>"
      ],
      "text/plain": [
       "       Category names  Category Numbers\n",
       "0         alt.atheism                 0\n",
       "1      comp.windows.x                 1\n",
       "2           rec.autos                 2\n",
       "3  rec.sport.baseball                 3\n",
       "4     sci.electronics                 4\n",
       "5           sci.space                 5"
      ]
     },
     "execution_count": 5,
     "metadata": {},
     "output_type": "execute_result"
    }
   ],
   "source": [
    "#This output shows the category name and its associated predictor variable.\n",
    "pd.DataFrame({'Category names':train['target_names'],'Category Numbers':range(0,6)})"
   ]
  },
  {
   "cell_type": "markdown",
   "metadata": {},
   "source": [
    "## Stemming, Lemmatizing, removing stop words, lowercase"
   ]
  },
  {
   "cell_type": "code",
   "execution_count": 6,
   "metadata": {},
   "outputs": [],
   "source": [
    "def process_pos(pos):\n",
    "    if pos.startswith('J'): # adjectives\n",
    "        return wordnet.ADJ\n",
    "    elif pos.startswith('V'): # verbes\n",
    "        return wordnet.VERB\n",
    "    elif pos.startswith('N'): # nouns\n",
    "        return wordnet.NOUN\n",
    "    elif pos.startswith('R'): # adverbs\n",
    "        return wordnet.ADV\n",
    "    else:\n",
    "        return wordnet.NOUN\n",
    "\n",
    "def slrl(df, column):\n",
    "    \n",
    "    punctuation = [punc for punc in string.punctuation]\n",
    "    stop_words = stopwords.words('english')\n",
    "    lemmatizer = WordNetLemmatizer()\n",
    "    english_words = set(nltk.corpus.words.words())\n",
    "    \n",
    "    for i in range(len(df)):\n",
    "        text = df.loc[i,column]\n",
    "        words = word_tokenize(text)\n",
    "        words = [word.lower() for word in words]\n",
    "        words = [lemmatizer.lemmatize(word, pos=process_pos(pos)) \n",
    "                            for word,pos in nltk.pos_tag(words) \n",
    "                            if word not in stop_words]\n",
    "        words = [re.sub('[^A-Za-z]', '', word) for word in words]\n",
    "        words = [word for word in words if word in english_words]\n",
    "        df.loc[i,column] = ' '.join(words)\n",
    "    return df"
   ]
  },
  {
   "cell_type": "code",
   "execution_count": 7,
   "metadata": {},
   "outputs": [],
   "source": [
    "train_data = slrl(train_data, 'text')"
   ]
  },
  {
   "cell_type": "code",
   "execution_count": 8,
   "metadata": {},
   "outputs": [],
   "source": [
    "test_data = slrl(test_data, 'text')"
   ]
  },
  {
   "cell_type": "markdown",
   "metadata": {},
   "source": [
    "## Training a Naive Bayes model"
   ]
  },
  {
   "cell_type": "code",
   "execution_count": 9,
   "metadata": {},
   "outputs": [],
   "source": [
    "# Creating testing variables\n",
    "X_train = train_data.text\n",
    "y_train = train_data.category"
   ]
  },
  {
   "cell_type": "code",
   "execution_count": 10,
   "metadata": {},
   "outputs": [],
   "source": [
    "pipe = Pipeline(steps=[\n",
    "# A TfidfVectorizer uses an algorithm to determing the originality of a word. Words with greater originality recieve a higher variable weight.\n",
    "    ('vect', TfidfVectorizer()), \n",
    "    ('clf', MultinomialNB()) #Setting up the Naive Bayes Model.\n",
    "])"
   ]
  },
  {
   "cell_type": "code",
   "execution_count": 11,
   "metadata": {},
   "outputs": [],
   "source": [
    "#Setting up parameters for grid search. Prefix Vect indicates it is adjusting TfidfVectorizer() parameters. \n",
    "params_dic =  {'vect__max_features' : [1000,2000,5000,10000],\n",
    "               'vect__stop_words' : ['english', None],\n",
    "               'vect__min_df' : [5,10,20,50],\n",
    "               'vect__ngram_range' : [(1,1), (1,2),(1,3)],\n",
    "               'vect__use_idf' : [True,False],\n",
    "               'clf__alpha' : [0.0001, 0.001, 0.01,0.1, 1]}"
   ]
  },
  {
   "cell_type": "code",
   "execution_count": 12,
   "metadata": {},
   "outputs": [
    {
     "name": "stdout",
     "output_type": "stream",
     "text": [
      "Fitting 5 folds for each of 960 candidates, totalling 4800 fits\n"
     ]
    },
    {
     "data": {
      "text/html": [
       "<style>#sk-container-id-1 {color: black;}#sk-container-id-1 pre{padding: 0;}#sk-container-id-1 div.sk-toggleable {background-color: white;}#sk-container-id-1 label.sk-toggleable__label {cursor: pointer;display: block;width: 100%;margin-bottom: 0;padding: 0.3em;box-sizing: border-box;text-align: center;}#sk-container-id-1 label.sk-toggleable__label-arrow:before {content: \"▸\";float: left;margin-right: 0.25em;color: #696969;}#sk-container-id-1 label.sk-toggleable__label-arrow:hover:before {color: black;}#sk-container-id-1 div.sk-estimator:hover label.sk-toggleable__label-arrow:before {color: black;}#sk-container-id-1 div.sk-toggleable__content {max-height: 0;max-width: 0;overflow: hidden;text-align: left;background-color: #f0f8ff;}#sk-container-id-1 div.sk-toggleable__content pre {margin: 0.2em;color: black;border-radius: 0.25em;background-color: #f0f8ff;}#sk-container-id-1 input.sk-toggleable__control:checked~div.sk-toggleable__content {max-height: 200px;max-width: 100%;overflow: auto;}#sk-container-id-1 input.sk-toggleable__control:checked~label.sk-toggleable__label-arrow:before {content: \"▾\";}#sk-container-id-1 div.sk-estimator input.sk-toggleable__control:checked~label.sk-toggleable__label {background-color: #d4ebff;}#sk-container-id-1 div.sk-label input.sk-toggleable__control:checked~label.sk-toggleable__label {background-color: #d4ebff;}#sk-container-id-1 input.sk-hidden--visually {border: 0;clip: rect(1px 1px 1px 1px);clip: rect(1px, 1px, 1px, 1px);height: 1px;margin: -1px;overflow: hidden;padding: 0;position: absolute;width: 1px;}#sk-container-id-1 div.sk-estimator {font-family: monospace;background-color: #f0f8ff;border: 1px dotted black;border-radius: 0.25em;box-sizing: border-box;margin-bottom: 0.5em;}#sk-container-id-1 div.sk-estimator:hover {background-color: #d4ebff;}#sk-container-id-1 div.sk-parallel-item::after {content: \"\";width: 100%;border-bottom: 1px solid gray;flex-grow: 1;}#sk-container-id-1 div.sk-label:hover label.sk-toggleable__label {background-color: #d4ebff;}#sk-container-id-1 div.sk-serial::before {content: \"\";position: absolute;border-left: 1px solid gray;box-sizing: border-box;top: 0;bottom: 0;left: 50%;z-index: 0;}#sk-container-id-1 div.sk-serial {display: flex;flex-direction: column;align-items: center;background-color: white;padding-right: 0.2em;padding-left: 0.2em;position: relative;}#sk-container-id-1 div.sk-item {position: relative;z-index: 1;}#sk-container-id-1 div.sk-parallel {display: flex;align-items: stretch;justify-content: center;background-color: white;position: relative;}#sk-container-id-1 div.sk-item::before, #sk-container-id-1 div.sk-parallel-item::before {content: \"\";position: absolute;border-left: 1px solid gray;box-sizing: border-box;top: 0;bottom: 0;left: 50%;z-index: -1;}#sk-container-id-1 div.sk-parallel-item {display: flex;flex-direction: column;z-index: 1;position: relative;background-color: white;}#sk-container-id-1 div.sk-parallel-item:first-child::after {align-self: flex-end;width: 50%;}#sk-container-id-1 div.sk-parallel-item:last-child::after {align-self: flex-start;width: 50%;}#sk-container-id-1 div.sk-parallel-item:only-child::after {width: 0;}#sk-container-id-1 div.sk-dashed-wrapped {border: 1px dashed gray;margin: 0 0.4em 0.5em 0.4em;box-sizing: border-box;padding-bottom: 0.4em;background-color: white;}#sk-container-id-1 div.sk-label label {font-family: monospace;font-weight: bold;display: inline-block;line-height: 1.2em;}#sk-container-id-1 div.sk-label-container {text-align: center;}#sk-container-id-1 div.sk-container {/* jupyter's `normalize.less` sets `[hidden] { display: none; }` but bootstrap.min.css set `[hidden] { display: none !important; }` so we also need the `!important` here to be able to override the default hidden behavior on the sphinx rendered scikit-learn.org. See: https://github.com/scikit-learn/scikit-learn/issues/21755 */display: inline-block !important;position: relative;}#sk-container-id-1 div.sk-text-repr-fallback {display: none;}</style><div id=\"sk-container-id-1\" class=\"sk-top-container\"><div class=\"sk-text-repr-fallback\"><pre>GridSearchCV(cv=5,\n",
       "             estimator=Pipeline(steps=[(&#x27;vect&#x27;, TfidfVectorizer()),\n",
       "                                       (&#x27;clf&#x27;, MultinomialNB())]),\n",
       "             n_jobs=-1,\n",
       "             param_grid={&#x27;clf__alpha&#x27;: [0.0001, 0.001, 0.01, 0.1, 1],\n",
       "                         &#x27;vect__max_features&#x27;: [1000, 2000, 5000, 10000],\n",
       "                         &#x27;vect__min_df&#x27;: [5, 10, 20, 50],\n",
       "                         &#x27;vect__ngram_range&#x27;: [(1, 1), (1, 2), (1, 3)],\n",
       "                         &#x27;vect__stop_words&#x27;: [&#x27;english&#x27;, None],\n",
       "                         &#x27;vect__use_idf&#x27;: [True, False]},\n",
       "             scoring=&#x27;accuracy&#x27;, verbose=True)</pre><b>In a Jupyter environment, please rerun this cell to show the HTML representation or trust the notebook. <br />On GitHub, the HTML representation is unable to render, please try loading this page with nbviewer.org.</b></div><div class=\"sk-container\" hidden><div class=\"sk-item sk-dashed-wrapped\"><div class=\"sk-label-container\"><div class=\"sk-label sk-toggleable\"><input class=\"sk-toggleable__control sk-hidden--visually\" id=\"sk-estimator-id-1\" type=\"checkbox\" ><label for=\"sk-estimator-id-1\" class=\"sk-toggleable__label sk-toggleable__label-arrow\">GridSearchCV</label><div class=\"sk-toggleable__content\"><pre>GridSearchCV(cv=5,\n",
       "             estimator=Pipeline(steps=[(&#x27;vect&#x27;, TfidfVectorizer()),\n",
       "                                       (&#x27;clf&#x27;, MultinomialNB())]),\n",
       "             n_jobs=-1,\n",
       "             param_grid={&#x27;clf__alpha&#x27;: [0.0001, 0.001, 0.01, 0.1, 1],\n",
       "                         &#x27;vect__max_features&#x27;: [1000, 2000, 5000, 10000],\n",
       "                         &#x27;vect__min_df&#x27;: [5, 10, 20, 50],\n",
       "                         &#x27;vect__ngram_range&#x27;: [(1, 1), (1, 2), (1, 3)],\n",
       "                         &#x27;vect__stop_words&#x27;: [&#x27;english&#x27;, None],\n",
       "                         &#x27;vect__use_idf&#x27;: [True, False]},\n",
       "             scoring=&#x27;accuracy&#x27;, verbose=True)</pre></div></div></div><div class=\"sk-parallel\"><div class=\"sk-parallel-item\"><div class=\"sk-item\"><div class=\"sk-label-container\"><div class=\"sk-label sk-toggleable\"><input class=\"sk-toggleable__control sk-hidden--visually\" id=\"sk-estimator-id-2\" type=\"checkbox\" ><label for=\"sk-estimator-id-2\" class=\"sk-toggleable__label sk-toggleable__label-arrow\">estimator: Pipeline</label><div class=\"sk-toggleable__content\"><pre>Pipeline(steps=[(&#x27;vect&#x27;, TfidfVectorizer()), (&#x27;clf&#x27;, MultinomialNB())])</pre></div></div></div><div class=\"sk-serial\"><div class=\"sk-item\"><div class=\"sk-serial\"><div class=\"sk-item\"><div class=\"sk-estimator sk-toggleable\"><input class=\"sk-toggleable__control sk-hidden--visually\" id=\"sk-estimator-id-3\" type=\"checkbox\" ><label for=\"sk-estimator-id-3\" class=\"sk-toggleable__label sk-toggleable__label-arrow\">TfidfVectorizer</label><div class=\"sk-toggleable__content\"><pre>TfidfVectorizer()</pre></div></div></div><div class=\"sk-item\"><div class=\"sk-estimator sk-toggleable\"><input class=\"sk-toggleable__control sk-hidden--visually\" id=\"sk-estimator-id-4\" type=\"checkbox\" ><label for=\"sk-estimator-id-4\" class=\"sk-toggleable__label sk-toggleable__label-arrow\">MultinomialNB</label><div class=\"sk-toggleable__content\"><pre>MultinomialNB()</pre></div></div></div></div></div></div></div></div></div></div></div></div>"
      ],
      "text/plain": [
       "GridSearchCV(cv=5,\n",
       "             estimator=Pipeline(steps=[('vect', TfidfVectorizer()),\n",
       "                                       ('clf', MultinomialNB())]),\n",
       "             n_jobs=-1,\n",
       "             param_grid={'clf__alpha': [0.0001, 0.001, 0.01, 0.1, 1],\n",
       "                         'vect__max_features': [1000, 2000, 5000, 10000],\n",
       "                         'vect__min_df': [5, 10, 20, 50],\n",
       "                         'vect__ngram_range': [(1, 1), (1, 2), (1, 3)],\n",
       "                         'vect__stop_words': ['english', None],\n",
       "                         'vect__use_idf': [True, False]},\n",
       "             scoring='accuracy', verbose=True)"
      ]
     },
     "execution_count": 12,
     "metadata": {},
     "output_type": "execute_result"
    }
   ],
   "source": [
    "#Searching for the optimal using cross validation\n",
    "grid = GridSearchCV(pipe,params_dic,scoring='accuracy',cv=5, n_jobs=-1, verbose=True)\n",
    "grid.fit(X_train,y_train)"
   ]
  },
  {
   "cell_type": "code",
   "execution_count": 13,
   "metadata": {},
   "outputs": [
    {
     "data": {
      "text/plain": [
       "0.8442611640478743"
      ]
     },
     "execution_count": 13,
     "metadata": {},
     "output_type": "execute_result"
    }
   ],
   "source": [
    "#The training sets accuracy score. The best accuracy score acheived during cross validation.\n",
    "grid.best_score_"
   ]
  },
  {
   "cell_type": "code",
   "execution_count": 14,
   "metadata": {},
   "outputs": [
    {
     "data": {
      "text/plain": [
       "{'clf__alpha': 0.1,\n",
       " 'vect__max_features': 5000,\n",
       " 'vect__min_df': 5,\n",
       " 'vect__ngram_range': (1, 3),\n",
       " 'vect__stop_words': 'english',\n",
       " 'vect__use_idf': True}"
      ]
     },
     "execution_count": 14,
     "metadata": {},
     "output_type": "execute_result"
    }
   ],
   "source": [
    "#The TfidfVectorizer parameters that acheive the best results on the holdout sample.\n",
    "grid.best_params_"
   ]
  },
  {
   "cell_type": "code",
   "execution_count": 15,
   "metadata": {},
   "outputs": [],
   "source": [
    "#Creating a Naive Bayes model using the optimal parameters.\n",
    "best_clf = grid.best_estimator_"
   ]
  },
  {
   "cell_type": "code",
   "execution_count": 16,
   "metadata": {},
   "outputs": [],
   "source": [
    "#Creating test set to determine models accuracy on new data.\n",
    "X_test = test_data.text\n",
    "y_test = test_data.category\n",
    "y_test_pred = best_clf.predict(X_test)"
   ]
  },
  {
   "cell_type": "code",
   "execution_count": 17,
   "metadata": {},
   "outputs": [
    {
     "data": {
      "text/plain": [
       "0.8003487358326068"
      ]
     },
     "execution_count": 17,
     "metadata": {},
     "output_type": "execute_result"
    }
   ],
   "source": [
    "#This model accurately predicts the new articles category 83.26% of the time.\n",
    "accuracy_score(y_test, y_test_pred)"
   ]
  },
  {
   "cell_type": "code",
   "execution_count": 18,
   "metadata": {},
   "outputs": [
    {
     "data": {
      "text/plain": [
       "array([[240,   8,  20,  14,   9,  28],\n",
       "       [  2, 342,  11,  13,  14,  13],\n",
       "       [ 10,   9, 309,  40,  14,  14],\n",
       "       [ 13,  10,  12, 348,   4,  10],\n",
       "       [  9,  34,  29,  17, 286,  18],\n",
       "       [ 23,  11,  10,  23,  16, 311]])"
      ]
     },
     "execution_count": 18,
     "metadata": {},
     "output_type": "execute_result"
    }
   ],
   "source": [
    "#Confusion matrix comparting perdicted results to expected results.\n",
    "confusion_matrix(y_test,y_test_pred)"
   ]
  },
  {
   "cell_type": "code",
   "execution_count": 19,
   "metadata": {
    "tags": []
   },
   "outputs": [
    {
     "data": {
      "text/plain": [
       "1014    anyone idea get league regularly u wall wall w...\n",
       "1077       anyone know site could please send also thanks\n",
       "1231    s franco hardly use hear completely recover m ...\n",
       "1252    want ticket anyone know get public sale sell w...\n",
       "Name: text, dtype: object"
      ]
     },
     "execution_count": 19,
     "metadata": {},
     "output_type": "execute_result"
    }
   ],
   "source": [
    "X_test[(y_test==3) & (y_test_pred==4)]"
   ]
  },
  {
   "cell_type": "code",
   "execution_count": 20,
   "metadata": {},
   "outputs": [
    {
     "data": {
      "text/plain": [
       "['alt.atheism',\n",
       " 'comp.windows.x',\n",
       " 'rec.autos',\n",
       " 'rec.sport.baseball',\n",
       " 'sci.electronics',\n",
       " 'sci.space']"
      ]
     },
     "execution_count": 20,
     "metadata": {},
     "output_type": "execute_result"
    }
   ],
   "source": [
    "#Reminder for target category names.\n",
    "train['target_names']"
   ]
  },
  {
   "cell_type": "code",
   "execution_count": 21,
   "metadata": {},
   "outputs": [
    {
     "data": {
      "text/plain": [
       "array([3, 2])"
      ]
     },
     "execution_count": 21,
     "metadata": {},
     "output_type": "execute_result"
    }
   ],
   "source": [
    "#Testing out the model with my own predictions\n",
    "best_clf.predict(['I hit a home run','Formula 1 cars are really fast'])"
   ]
  },
  {
   "cell_type": "code",
   "execution_count": 22,
   "metadata": {},
   "outputs": [
    {
     "data": {
      "text/plain": [
       "array([5])"
      ]
     },
     "execution_count": 22,
     "metadata": {},
     "output_type": "execute_result"
    }
   ],
   "source": [
    "#Testing out the model with my own predictions\n",
    "best_clf.predict(['They made it to the moon'])"
   ]
  },
  {
   "cell_type": "code",
   "execution_count": 23,
   "metadata": {
    "tags": []
   },
   "outputs": [
    {
     "data": {
      "text/plain": [
       "array([1.19983751, 0.        , 0.76852621, ..., 0.        , 0.        ,\n",
       "       0.        ])"
      ]
     },
     "execution_count": 23,
     "metadata": {},
     "output_type": "execute_result"
    }
   ],
   "source": [
    "grid.best_estimator_.named_steps.clf.feature_count_[0,:]"
   ]
  },
  {
   "cell_type": "code",
   "execution_count": 24,
   "metadata": {},
   "outputs": [
    {
     "data": {
      "text/html": [
       "<div>\n",
       "<style scoped>\n",
       "    .dataframe tbody tr th:only-of-type {\n",
       "        vertical-align: middle;\n",
       "    }\n",
       "\n",
       "    .dataframe tbody tr th {\n",
       "        vertical-align: top;\n",
       "    }\n",
       "\n",
       "    .dataframe thead th {\n",
       "        text-align: right;\n",
       "    }\n",
       "</style>\n",
       "<table border=\"1\" class=\"dataframe\">\n",
       "  <thead>\n",
       "    <tr style=\"text-align: right;\">\n",
       "      <th></th>\n",
       "      <th>alt.atheism</th>\n",
       "      <th>comp.windows.x</th>\n",
       "      <th>rec.autos</th>\n",
       "      <th>rec.sport.baseball</th>\n",
       "      <th>sci.electronics</th>\n",
       "      <th>sci.space</th>\n",
       "    </tr>\n",
       "    <tr>\n",
       "      <th>feature</th>\n",
       "      <th></th>\n",
       "      <th></th>\n",
       "      <th></th>\n",
       "      <th></th>\n",
       "      <th></th>\n",
       "      <th></th>\n",
       "    </tr>\n",
       "  </thead>\n",
       "  <tbody>\n",
       "    <tr>\n",
       "      <th>aa</th>\n",
       "      <td>1.199838</td>\n",
       "      <td>0.314732</td>\n",
       "      <td>0.000000</td>\n",
       "      <td>1.538310</td>\n",
       "      <td>0.437299</td>\n",
       "      <td>0.238578</td>\n",
       "    </tr>\n",
       "    <tr>\n",
       "      <th>abbreviation</th>\n",
       "      <td>0.000000</td>\n",
       "      <td>0.000000</td>\n",
       "      <td>0.054796</td>\n",
       "      <td>0.374678</td>\n",
       "      <td>0.513660</td>\n",
       "      <td>0.000000</td>\n",
       "    </tr>\n",
       "    <tr>\n",
       "      <th>ability</th>\n",
       "      <td>0.768526</td>\n",
       "      <td>0.685768</td>\n",
       "      <td>0.346969</td>\n",
       "      <td>2.478080</td>\n",
       "      <td>0.532519</td>\n",
       "      <td>0.274483</td>\n",
       "    </tr>\n",
       "    <tr>\n",
       "      <th>able</th>\n",
       "      <td>1.682047</td>\n",
       "      <td>3.508683</td>\n",
       "      <td>1.310050</td>\n",
       "      <td>1.760524</td>\n",
       "      <td>3.696567</td>\n",
       "      <td>3.039196</td>\n",
       "    </tr>\n",
       "    <tr>\n",
       "      <th>able help</th>\n",
       "      <td>0.000000</td>\n",
       "      <td>0.762574</td>\n",
       "      <td>0.000000</td>\n",
       "      <td>0.219214</td>\n",
       "      <td>0.732737</td>\n",
       "      <td>0.000000</td>\n",
       "    </tr>\n",
       "  </tbody>\n",
       "</table>\n",
       "</div>"
      ],
      "text/plain": [
       "              alt.atheism  comp.windows.x  rec.autos  rec.sport.baseball  \\\n",
       "feature                                                                    \n",
       "aa               1.199838        0.314732   0.000000            1.538310   \n",
       "abbreviation     0.000000        0.000000   0.054796            0.374678   \n",
       "ability          0.768526        0.685768   0.346969            2.478080   \n",
       "able             1.682047        3.508683   1.310050            1.760524   \n",
       "able help        0.000000        0.762574   0.000000            0.219214   \n",
       "\n",
       "              sci.electronics  sci.space  \n",
       "feature                                   \n",
       "aa                   0.437299   0.238578  \n",
       "abbreviation         0.513660   0.000000  \n",
       "ability              0.532519   0.274483  \n",
       "able                 3.696567   3.039196  \n",
       "able help            0.732737   0.000000  "
      ]
     },
     "execution_count": 24,
     "metadata": {},
     "output_type": "execute_result"
    }
   ],
   "source": [
    "articles = pd.DataFrame({'feature' : grid.best_estimator_.named_steps.vect.get_feature_names_out(), \n",
    "                       'alt.atheism' : grid.best_estimator_.named_steps.clf.feature_count_[0,:], \n",
    "                       'comp.windows.x' : grid.best_estimator_.named_steps.clf.feature_count_[1,:],\n",
    "                       'rec.autos' : grid.best_estimator_.named_steps.clf.feature_count_[2,:],\n",
    "                       'rec.sport.baseball' : grid.best_estimator_.named_steps.clf.feature_count_[3,:],\n",
    "                       'sci.electronics' : grid.best_estimator_.named_steps.clf.feature_count_[4,:],\n",
    "                       'sci.space' : grid.best_estimator_.named_steps.clf.feature_count_[5,:]}).set_index('feature')\n",
    "articles.head()"
   ]
  },
  {
   "cell_type": "code",
   "execution_count": 25,
   "metadata": {
    "tags": []
   },
   "outputs": [],
   "source": [
    "articles['count'] = articles.sum(axis=1)"
   ]
  },
  {
   "cell_type": "code",
   "execution_count": 26,
   "metadata": {
    "tags": []
   },
   "outputs": [
    {
     "data": {
      "text/html": [
       "<div>\n",
       "<style scoped>\n",
       "    .dataframe tbody tr th:only-of-type {\n",
       "        vertical-align: middle;\n",
       "    }\n",
       "\n",
       "    .dataframe tbody tr th {\n",
       "        vertical-align: top;\n",
       "    }\n",
       "\n",
       "    .dataframe thead th {\n",
       "        text-align: right;\n",
       "    }\n",
       "</style>\n",
       "<table border=\"1\" class=\"dataframe\">\n",
       "  <thead>\n",
       "    <tr style=\"text-align: right;\">\n",
       "      <th></th>\n",
       "      <th>alt.atheism</th>\n",
       "      <th>comp.windows.x</th>\n",
       "      <th>rec.autos</th>\n",
       "      <th>rec.sport.baseball</th>\n",
       "      <th>sci.electronics</th>\n",
       "      <th>sci.space</th>\n",
       "      <th>count</th>\n",
       "    </tr>\n",
       "    <tr>\n",
       "      <th>feature</th>\n",
       "      <th></th>\n",
       "      <th></th>\n",
       "      <th></th>\n",
       "      <th></th>\n",
       "      <th></th>\n",
       "      <th></th>\n",
       "      <th></th>\n",
       "    </tr>\n",
       "  </thead>\n",
       "  <tbody>\n",
       "    <tr>\n",
       "      <th>use</th>\n",
       "      <td>5.231209</td>\n",
       "      <td>29.417603</td>\n",
       "      <td>8.524109</td>\n",
       "      <td>4.359885</td>\n",
       "      <td>22.640516</td>\n",
       "      <td>10.173030</td>\n",
       "      <td>80.346352</td>\n",
       "    </tr>\n",
       "    <tr>\n",
       "      <th>like</th>\n",
       "      <td>6.732587</td>\n",
       "      <td>11.584822</td>\n",
       "      <td>14.108445</td>\n",
       "      <td>9.732445</td>\n",
       "      <td>12.371945</td>\n",
       "      <td>11.929445</td>\n",
       "      <td>66.459690</td>\n",
       "    </tr>\n",
       "    <tr>\n",
       "      <th>know</th>\n",
       "      <td>9.645785</td>\n",
       "      <td>12.821619</td>\n",
       "      <td>10.144534</td>\n",
       "      <td>9.845058</td>\n",
       "      <td>12.628434</td>\n",
       "      <td>10.494716</td>\n",
       "      <td>65.580146</td>\n",
       "    </tr>\n",
       "    <tr>\n",
       "      <th>think</th>\n",
       "      <td>14.183065</td>\n",
       "      <td>5.077558</td>\n",
       "      <td>10.543960</td>\n",
       "      <td>16.142158</td>\n",
       "      <td>5.662762</td>\n",
       "      <td>12.635028</td>\n",
       "      <td>64.244531</td>\n",
       "    </tr>\n",
       "    <tr>\n",
       "      <th>car</th>\n",
       "      <td>1.407123</td>\n",
       "      <td>0.114664</td>\n",
       "      <td>51.345508</td>\n",
       "      <td>0.000000</td>\n",
       "      <td>3.635416</td>\n",
       "      <td>0.312205</td>\n",
       "      <td>56.814914</td>\n",
       "    </tr>\n",
       "    <tr>\n",
       "      <th>good</th>\n",
       "      <td>6.967036</td>\n",
       "      <td>4.237756</td>\n",
       "      <td>11.653796</td>\n",
       "      <td>14.314933</td>\n",
       "      <td>10.950726</td>\n",
       "      <td>7.154473</td>\n",
       "      <td>55.278721</td>\n",
       "    </tr>\n",
       "    <tr>\n",
       "      <th>say</th>\n",
       "      <td>18.940015</td>\n",
       "      <td>3.111751</td>\n",
       "      <td>8.622091</td>\n",
       "      <td>11.091401</td>\n",
       "      <td>4.861163</td>\n",
       "      <td>7.845505</td>\n",
       "      <td>54.471926</td>\n",
       "    </tr>\n",
       "    <tr>\n",
       "      <th>make</th>\n",
       "      <td>11.807250</td>\n",
       "      <td>5.700499</td>\n",
       "      <td>9.343056</td>\n",
       "      <td>9.923603</td>\n",
       "      <td>8.827061</td>\n",
       "      <td>8.615119</td>\n",
       "      <td>54.216588</td>\n",
       "    </tr>\n",
       "    <tr>\n",
       "      <th>year</th>\n",
       "      <td>2.872986</td>\n",
       "      <td>1.760699</td>\n",
       "      <td>8.018966</td>\n",
       "      <td>24.833165</td>\n",
       "      <td>3.169736</td>\n",
       "      <td>9.927557</td>\n",
       "      <td>50.583109</td>\n",
       "    </tr>\n",
       "    <tr>\n",
       "      <th>look</th>\n",
       "      <td>4.028859</td>\n",
       "      <td>10.330826</td>\n",
       "      <td>10.934333</td>\n",
       "      <td>7.428525</td>\n",
       "      <td>9.916133</td>\n",
       "      <td>5.816313</td>\n",
       "      <td>48.454989</td>\n",
       "    </tr>\n",
       "  </tbody>\n",
       "</table>\n",
       "</div>"
      ],
      "text/plain": [
       "         alt.atheism  comp.windows.x  rec.autos  rec.sport.baseball  \\\n",
       "feature                                                               \n",
       "use         5.231209       29.417603   8.524109            4.359885   \n",
       "like        6.732587       11.584822  14.108445            9.732445   \n",
       "know        9.645785       12.821619  10.144534            9.845058   \n",
       "think      14.183065        5.077558  10.543960           16.142158   \n",
       "car         1.407123        0.114664  51.345508            0.000000   \n",
       "good        6.967036        4.237756  11.653796           14.314933   \n",
       "say        18.940015        3.111751   8.622091           11.091401   \n",
       "make       11.807250        5.700499   9.343056            9.923603   \n",
       "year        2.872986        1.760699   8.018966           24.833165   \n",
       "look        4.028859       10.330826  10.934333            7.428525   \n",
       "\n",
       "         sci.electronics  sci.space      count  \n",
       "feature                                         \n",
       "use            22.640516  10.173030  80.346352  \n",
       "like           12.371945  11.929445  66.459690  \n",
       "know           12.628434  10.494716  65.580146  \n",
       "think           5.662762  12.635028  64.244531  \n",
       "car             3.635416   0.312205  56.814914  \n",
       "good           10.950726   7.154473  55.278721  \n",
       "say             4.861163   7.845505  54.471926  \n",
       "make            8.827061   8.615119  54.216588  \n",
       "year            3.169736   9.927557  50.583109  \n",
       "look            9.916133   5.816313  48.454989  "
      ]
     },
     "execution_count": 26,
     "metadata": {},
     "output_type": "execute_result"
    }
   ],
   "source": [
    "#Examining high impact words\n",
    "articles.sort_values(by='count',ascending=False).head(10)"
   ]
  }
 ],
 "metadata": {
  "kernelspec": {
   "display_name": "Python 3 (ipykernel)",
   "language": "python",
   "name": "python3"
  },
  "language_info": {
   "codemirror_mode": {
    "name": "ipython",
    "version": 3
   },
   "file_extension": ".py",
   "mimetype": "text/x-python",
   "name": "python",
   "nbconvert_exporter": "python",
   "pygments_lexer": "ipython3",
   "version": "3.11.5"
  }
 },
 "nbformat": 4,
 "nbformat_minor": 4
}

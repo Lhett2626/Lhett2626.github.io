{
 "cells": [
  {
   "cell_type": "markdown",
   "metadata": {},
   "source": [
    "# Craiglist car search"
   ]
  },
  {
   "cell_type": "code",
   "execution_count": 1,
   "metadata": {},
   "outputs": [],
   "source": [
    "from bs4 import BeautifulSoup\n",
    "import requests \n",
    "import time\n",
    "import pandas as pd\n",
    "import numpy as np"
   ]
  },
  {
   "cell_type": "code",
   "execution_count": 2,
   "metadata": {},
   "outputs": [],
   "source": [
    "car_df = pd.read_excel('Car_search_terms.xlsx')"
   ]
  },
  {
   "cell_type": "code",
   "execution_count": 3,
   "metadata": {},
   "outputs": [
    {
     "data": {
      "text/html": [
       "<div>\n",
       "<style scoped>\n",
       "    .dataframe tbody tr th:only-of-type {\n",
       "        vertical-align: middle;\n",
       "    }\n",
       "\n",
       "    .dataframe tbody tr th {\n",
       "        vertical-align: top;\n",
       "    }\n",
       "\n",
       "    .dataframe thead th {\n",
       "        text-align: right;\n",
       "    }\n",
       "</style>\n",
       "<table border=\"1\" class=\"dataframe\">\n",
       "  <thead>\n",
       "    <tr style=\"text-align: right;\">\n",
       "      <th></th>\n",
       "      <th>location</th>\n",
       "      <th>make</th>\n",
       "      <th>model</th>\n",
       "    </tr>\n",
       "  </thead>\n",
       "  <tbody>\n",
       "    <tr>\n",
       "      <th>0</th>\n",
       "      <td>spokane</td>\n",
       "      <td>subaru</td>\n",
       "      <td>crosstrek</td>\n",
       "    </tr>\n",
       "    <tr>\n",
       "      <th>1</th>\n",
       "      <td>missoula</td>\n",
       "      <td>subaru</td>\n",
       "      <td>outback</td>\n",
       "    </tr>\n",
       "    <tr>\n",
       "      <th>2</th>\n",
       "      <td>saltlakecity</td>\n",
       "      <td>subaru</td>\n",
       "      <td>forester</td>\n",
       "    </tr>\n",
       "    <tr>\n",
       "      <th>3</th>\n",
       "      <td>boise</td>\n",
       "      <td>toyota</td>\n",
       "      <td>highlander</td>\n",
       "    </tr>\n",
       "    <tr>\n",
       "      <th>4</th>\n",
       "      <td>eastidaho</td>\n",
       "      <td>toyota</td>\n",
       "      <td>4runner</td>\n",
       "    </tr>\n",
       "  </tbody>\n",
       "</table>\n",
       "</div>"
      ],
      "text/plain": [
       "       location    make       model\n",
       "0       spokane  subaru   crosstrek\n",
       "1      missoula  subaru     outback\n",
       "2  saltlakecity  subaru    forester\n",
       "3         boise  toyota  highlander\n",
       "4     eastidaho  toyota     4runner"
      ]
     },
     "execution_count": 3,
     "metadata": {},
     "output_type": "execute_result"
    }
   ],
   "source": [
    "car_df.head()"
   ]
  },
  {
   "cell_type": "code",
   "execution_count": 4,
   "metadata": {},
   "outputs": [
    {
     "data": {
      "text/plain": [
       "['subaru crosstrek',\n",
       " 'subaru outback',\n",
       " 'subaru forester',\n",
       " 'toyota highlander',\n",
       " 'toyota 4runner',\n",
       " 'toyota rav4',\n",
       " 'honda crv',\n",
       " 'honda pilot',\n",
       " 'honda hrv',\n",
       " 'honda h-rv']"
      ]
     },
     "execution_count": 4,
     "metadata": {},
     "output_type": "execute_result"
    }
   ],
   "source": [
    "car_df['make_model'] = car_df['make'] + ' ' + car_df['model']\n",
    "make_model_list = list(car_df['make_model'])\n",
    "make_model_list = make_model_list[0:10]\n",
    "make_model_list"
   ]
  },
  {
   "cell_type": "code",
   "execution_count": 5,
   "metadata": {},
   "outputs": [],
   "source": [
    "location_list = list(car_df['location'])"
   ]
  },
  {
   "cell_type": "code",
   "execution_count": 6,
   "metadata": {},
   "outputs": [
    {
     "data": {
      "text/html": [
       "<div>\n",
       "<style scoped>\n",
       "    .dataframe tbody tr th:only-of-type {\n",
       "        vertical-align: middle;\n",
       "    }\n",
       "\n",
       "    .dataframe tbody tr th {\n",
       "        vertical-align: top;\n",
       "    }\n",
       "\n",
       "    .dataframe thead th {\n",
       "        text-align: right;\n",
       "    }\n",
       "</style>\n",
       "<table border=\"1\" class=\"dataframe\">\n",
       "  <thead>\n",
       "    <tr style=\"text-align: right;\">\n",
       "      <th></th>\n",
       "      <th>location</th>\n",
       "      <th>make_model</th>\n",
       "    </tr>\n",
       "  </thead>\n",
       "  <tbody>\n",
       "    <tr>\n",
       "      <th>0</th>\n",
       "      <td>spokane</td>\n",
       "      <td>subaru crosstrek</td>\n",
       "    </tr>\n",
       "    <tr>\n",
       "      <th>1</th>\n",
       "      <td>spokane</td>\n",
       "      <td>subaru outback</td>\n",
       "    </tr>\n",
       "    <tr>\n",
       "      <th>2</th>\n",
       "      <td>spokane</td>\n",
       "      <td>subaru forester</td>\n",
       "    </tr>\n",
       "    <tr>\n",
       "      <th>3</th>\n",
       "      <td>spokane</td>\n",
       "      <td>toyota highlander</td>\n",
       "    </tr>\n",
       "    <tr>\n",
       "      <th>4</th>\n",
       "      <td>spokane</td>\n",
       "      <td>toyota 4runner</td>\n",
       "    </tr>\n",
       "    <tr>\n",
       "      <th>...</th>\n",
       "      <td>...</td>\n",
       "      <td>...</td>\n",
       "    </tr>\n",
       "    <tr>\n",
       "      <th>145</th>\n",
       "      <td>sacramento</td>\n",
       "      <td>toyota rav4</td>\n",
       "    </tr>\n",
       "    <tr>\n",
       "      <th>146</th>\n",
       "      <td>sacramento</td>\n",
       "      <td>honda crv</td>\n",
       "    </tr>\n",
       "    <tr>\n",
       "      <th>147</th>\n",
       "      <td>sacramento</td>\n",
       "      <td>honda pilot</td>\n",
       "    </tr>\n",
       "    <tr>\n",
       "      <th>148</th>\n",
       "      <td>sacramento</td>\n",
       "      <td>honda hrv</td>\n",
       "    </tr>\n",
       "    <tr>\n",
       "      <th>149</th>\n",
       "      <td>sacramento</td>\n",
       "      <td>honda h-rv</td>\n",
       "    </tr>\n",
       "  </tbody>\n",
       "</table>\n",
       "<p>150 rows × 2 columns</p>\n",
       "</div>"
      ],
      "text/plain": [
       "       location         make_model\n",
       "0       spokane   subaru crosstrek\n",
       "1       spokane     subaru outback\n",
       "2       spokane    subaru forester\n",
       "3       spokane  toyota highlander\n",
       "4       spokane     toyota 4runner\n",
       "..          ...                ...\n",
       "145  sacramento        toyota rav4\n",
       "146  sacramento          honda crv\n",
       "147  sacramento        honda pilot\n",
       "148  sacramento          honda hrv\n",
       "149  sacramento         honda h-rv\n",
       "\n",
       "[150 rows x 2 columns]"
      ]
     },
     "execution_count": 6,
     "metadata": {},
     "output_type": "execute_result"
    }
   ],
   "source": [
    "from itertools import product\n",
    "combos = pd.DataFrame(list(product(location_list, make_model_list)), columns=['location', 'make_model'])\n",
    "combos"
   ]
  },
  {
   "cell_type": "code",
   "execution_count": 7,
   "metadata": {},
   "outputs": [],
   "source": [
    "combos['URL'] = \"https://\" + combos.location + \".craigslist.org/search/cta?purveyor=owner&query=\" + combos.make_model\n",
    "\n",
    "#Appending all links for specific cars urls\n",
    "links= []\n",
    "for url in combos['URL']:\n",
    "    try:\n",
    "        time.sleep(2)\n",
    "        page = requests.get(url)\n",
    "        page_soup = BeautifulSoup(page.content,'lxml')\n",
    "        for link in page_soup.findAll('li',{'class':'cl-static-search-result'}):\n",
    "            links.append(link.a['href'])\n",
    "    except:\n",
    "        print('error')\n",
    "        print(url)"
   ]
  },
  {
   "cell_type": "code",
   "execution_count": 8,
   "metadata": {},
   "outputs": [],
   "source": [
    "def post_id(page_soup):\n",
    "    post_id = page_soup.findAll('p',{'class':'postinginfo'})[1].text.split()[2]\n",
    "    return(post_id)"
   ]
  },
  {
   "cell_type": "code",
   "execution_count": 9,
   "metadata": {},
   "outputs": [],
   "source": [
    "def title(page_soup):\n",
    "    title = page_soup.findAll('span',{'class':'postingtitletext'})[0].text.replace('\\n','')\n",
    "    return(title)"
   ]
  },
  {
   "cell_type": "code",
   "execution_count": 10,
   "metadata": {},
   "outputs": [],
   "source": [
    "def description(page_soup):\n",
    "    description = page_soup.findAll('section',{'id':'postingbody'})[0].text.replace('\\n',' ')\n",
    "    return(description)"
   ]
  },
  {
   "cell_type": "code",
   "execution_count": 11,
   "metadata": {},
   "outputs": [],
   "source": [
    "def price(page_soup):\n",
    "    price = page_soup.findAll('span',{'class':\"price\"})[0].text\n",
    "    return(price)"
   ]
  },
  {
   "cell_type": "code",
   "execution_count": 12,
   "metadata": {},
   "outputs": [],
   "source": [
    "def milage(page_soup):\n",
    "    for elements in page_soup.findAll('p', {'class' :'attrgroup'}):\n",
    "        for item in elements.findAll('span'):\n",
    "            item_text = item.text\n",
    "            if ':' in item_text:\n",
    "                field, value = item_text.split(':')\n",
    "                if field == 'odometer':\n",
    "                    return(value)"
   ]
  },
  {
   "cell_type": "code",
   "execution_count": 13,
   "metadata": {},
   "outputs": [],
   "source": [
    "def crumb_area(page_soup):\n",
    "    price = page_soup.findAll('span',{'class':\"price\"})[0].text\n",
    "    return(price)"
   ]
  },
  {
   "cell_type": "code",
   "execution_count": 14,
   "metadata": {},
   "outputs": [],
   "source": [
    "def year(page_soup):\n",
    "    year = page_soup.find('div',class_='mapAndAttrs')\n",
    "    year = year.find('p',class_='attrgroup').span.b.text[:4]\n",
    "    return(year)"
   ]
  },
  {
   "cell_type": "code",
   "execution_count": 15,
   "metadata": {},
   "outputs": [],
   "source": [
    "def Posting_date(page_soup):\n",
    "    Posting_date = page_soup.findAll('p', {'class' :'postinginfo reveal'})[1].text.split()[1]\n",
    "    return(Posting_date)"
   ]
  },
  {
   "cell_type": "code",
   "execution_count": 16,
   "metadata": {},
   "outputs": [],
   "source": [
    "Final_Year = []\n",
    "Final_Price = []\n",
    "Final_Post_ID = []\n",
    "Final_Title = []\n",
    "Final_Description = []\n",
    "Final_Millage = []\n",
    "Final_Crumb_Area = []\n",
    "Final_Posting_Date = []\n",
    "\n",
    "\n",
    "\n",
    "for link in links:\n",
    "    page = requests.get(link)\n",
    "    page_soup = BeautifulSoup(page.content,'lxml')\n",
    "    \n",
    "    try:\n",
    "        Final_Year.append(year(page_soup))\n",
    "    except:\n",
    "        Final_Year.append(0)\n",
    "    \n",
    "    try:\n",
    "        Final_Price.append(price(page_soup))\n",
    "    except:\n",
    "        Final_Price.append('nan')\n",
    "    \n",
    "    try:\n",
    "        Final_Post_ID.append(post_id(page_soup))\n",
    "    except:\n",
    "        Final_Post_ID.append(0)\n",
    "    \n",
    "    try:\n",
    "        Final_Title.append(title(page_soup))\n",
    "    except:\n",
    "        Final_Title.append(0)\n",
    "    \n",
    "    try:\n",
    "        Final_Description.append(description(page_soup))\n",
    "    except:\n",
    "        Final_Description.append(0)\n",
    "    \n",
    "    try:\n",
    "        Final_Millage.append(milage(page_soup))\n",
    "    except:\n",
    "        Final_Millage.append(0)\n",
    "    \n",
    "    try:\n",
    "        Final_Crumb_Area.append(crumb_area(page_soup))\n",
    "    except:\n",
    "        Final_Crumb_Area.append(0)\n",
    "    \n",
    "    try:\n",
    "        Final_Posting_Date.append(Posting_date(page_soup))\n",
    "    except:\n",
    "        Final_Posting_Date.append(0)"
   ]
  },
  {
   "cell_type": "code",
   "execution_count": 17,
   "metadata": {},
   "outputs": [],
   "source": [
    "links_dict = {'Year' : Final_Year, 'Price' : Final_Price, 'Post_ID' : Final_Post_ID, 'Title' : Final_Title, 'Description' : Final_Description, 'Millage' : Final_Millage, 'Crumb_Area' : Final_Crumb_Area, 'Posting_Date' : Final_Posting_Date}\n",
    "\n",
    "Craiglist_Car_Information = pd.DataFrame(links_dict).set_index('Post_ID')"
   ]
  },
  {
   "cell_type": "code",
   "execution_count": 19,
   "metadata": {},
   "outputs": [
    {
     "data": {
      "text/html": [
       "<div>\n",
       "<style scoped>\n",
       "    .dataframe tbody tr th:only-of-type {\n",
       "        vertical-align: middle;\n",
       "    }\n",
       "\n",
       "    .dataframe tbody tr th {\n",
       "        vertical-align: top;\n",
       "    }\n",
       "\n",
       "    .dataframe thead th {\n",
       "        text-align: right;\n",
       "    }\n",
       "</style>\n",
       "<table border=\"1\" class=\"dataframe\">\n",
       "  <thead>\n",
       "    <tr style=\"text-align: right;\">\n",
       "      <th></th>\n",
       "      <th>Year</th>\n",
       "      <th>Price</th>\n",
       "      <th>Title</th>\n",
       "      <th>Description</th>\n",
       "      <th>Millage</th>\n",
       "      <th>Crumb_Area</th>\n",
       "      <th>Posting_Date</th>\n",
       "    </tr>\n",
       "    <tr>\n",
       "      <th>Post_ID</th>\n",
       "      <th></th>\n",
       "      <th></th>\n",
       "      <th></th>\n",
       "      <th></th>\n",
       "      <th></th>\n",
       "      <th></th>\n",
       "      <th></th>\n",
       "    </tr>\n",
       "  </thead>\n",
       "  <tbody>\n",
       "    <tr>\n",
       "      <th>7717579278</th>\n",
       "      <td>0</td>\n",
       "      <td>$16,900</td>\n",
       "      <td>2020 Subaru Crosstrek Premium 6spd - $16,900 (...</td>\n",
       "      <td>QR Code Link to This Post   Rare 2020 Subaru...</td>\n",
       "      <td>None</td>\n",
       "      <td>$16,900</td>\n",
       "      <td>2024-02-14</td>\n",
       "    </tr>\n",
       "    <tr>\n",
       "      <th>7716910499</th>\n",
       "      <td>0</td>\n",
       "      <td>$17,000</td>\n",
       "      <td>2018 Subaru Crosstrek Limited AWD - $17,000 (S...</td>\n",
       "      <td>QR Code Link to This Post   2018 Subaru Cros...</td>\n",
       "      <td>None</td>\n",
       "      <td>$17,000</td>\n",
       "      <td>2024-02-12</td>\n",
       "    </tr>\n",
       "    <tr>\n",
       "      <th>7716905887</th>\n",
       "      <td>0</td>\n",
       "      <td>$16,500</td>\n",
       "      <td>2018 Subaru Crosstrek Limited AWD - $16,500 (S...</td>\n",
       "      <td>QR Code Link to This Post   2018 Subaru Cros...</td>\n",
       "      <td>None</td>\n",
       "      <td>$16,500</td>\n",
       "      <td>2024-02-12</td>\n",
       "    </tr>\n",
       "    <tr>\n",
       "      <th>7715192534</th>\n",
       "      <td>0</td>\n",
       "      <td>$18,000</td>\n",
       "      <td>2018 Subaru Crosstrek - Lifted, Off-Road Ready...</td>\n",
       "      <td>QR Code Link to This Post   Selling my 2018 ...</td>\n",
       "      <td>None</td>\n",
       "      <td>$18,000</td>\n",
       "      <td>2024-02-06</td>\n",
       "    </tr>\n",
       "    <tr>\n",
       "      <th>7716578554</th>\n",
       "      <td>0</td>\n",
       "      <td>$7,950</td>\n",
       "      <td>2012 Subaru Outback AWD-92k miles- - $7,950 (s...</td>\n",
       "      <td>QR Code Link to This Post   2012 Subaru Outb...</td>\n",
       "      <td>None</td>\n",
       "      <td>$7,950</td>\n",
       "      <td>2024-02-10</td>\n",
       "    </tr>\n",
       "  </tbody>\n",
       "</table>\n",
       "</div>"
      ],
      "text/plain": [
       "            Year    Price                                              Title  \\\n",
       "Post_ID                                                                        \n",
       "7717579278     0  $16,900  2020 Subaru Crosstrek Premium 6spd - $16,900 (...   \n",
       "7716910499     0  $17,000  2018 Subaru Crosstrek Limited AWD - $17,000 (S...   \n",
       "7716905887     0  $16,500  2018 Subaru Crosstrek Limited AWD - $16,500 (S...   \n",
       "7715192534     0  $18,000  2018 Subaru Crosstrek - Lifted, Off-Road Ready...   \n",
       "7716578554     0   $7,950  2012 Subaru Outback AWD-92k miles- - $7,950 (s...   \n",
       "\n",
       "                                                  Description Millage  \\\n",
       "Post_ID                                                                 \n",
       "7717579278    QR Code Link to This Post   Rare 2020 Subaru...    None   \n",
       "7716910499    QR Code Link to This Post   2018 Subaru Cros...    None   \n",
       "7716905887    QR Code Link to This Post   2018 Subaru Cros...    None   \n",
       "7715192534    QR Code Link to This Post   Selling my 2018 ...    None   \n",
       "7716578554    QR Code Link to This Post   2012 Subaru Outb...    None   \n",
       "\n",
       "           Crumb_Area Posting_Date  \n",
       "Post_ID                             \n",
       "7717579278    $16,900   2024-02-14  \n",
       "7716910499    $17,000   2024-02-12  \n",
       "7716905887    $16,500   2024-02-12  \n",
       "7715192534    $18,000   2024-02-06  \n",
       "7716578554     $7,950   2024-02-10  "
      ]
     },
     "execution_count": 19,
     "metadata": {},
     "output_type": "execute_result"
    }
   ],
   "source": [
    "Craiglist_Car_Information.head()"
   ]
  },
  {
   "cell_type": "code",
   "execution_count": 20,
   "metadata": {},
   "outputs": [],
   "source": [
    "Craiglist_Car_Information.to_csv('craigscars.csv', index=False)"
   ]
  },
  {
   "cell_type": "code",
   "execution_count": null,
   "metadata": {},
   "outputs": [],
   "source": []
  }
 ],
 "metadata": {
  "kernelspec": {
   "display_name": "Python 3 (ipykernel)",
   "language": "python",
   "name": "python3"
  },
  "language_info": {
   "codemirror_mode": {
    "name": "ipython",
    "version": 3
   },
   "file_extension": ".py",
   "mimetype": "text/x-python",
   "name": "python",
   "nbconvert_exporter": "python",
   "pygments_lexer": "ipython3",
   "version": "3.11.5"
  }
 },
 "nbformat": 4,
 "nbformat_minor": 4
}
